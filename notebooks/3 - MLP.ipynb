{
 "cells": [
  {
   "cell_type": "markdown",
   "metadata": {
    "id": "wsg5smSsu3OG"
   },
   "source": [
    "Assume only EN train/val are available. Model will be evaluated on machine translated FR test set."
   ]
  },
  {
   "cell_type": "code",
   "execution_count": null,
   "metadata": {
    "id": "Ta8lwZQrujSH"
   },
   "outputs": [],
   "source": [
    "# import sys\n",
    "# !{sys.executable} -m pip install wandb"
   ]
  },
  {
   "cell_type": "code",
   "execution_count": null,
   "metadata": {
    "colab": {
     "base_uri": "https://localhost:8080/",
     "height": 17
    },
    "id": "RdgU2JhouG5X",
    "outputId": "5c7ce79c-9cd8-432c-c5c4-b6646ad58be0"
   },
   "outputs": [
    {
     "data": {
      "text/html": [
       "\n",
       "  <style>\n",
       "    pre {\n",
       "        white-space: pre-wrap;\n",
       "    }\n",
       "  </style>\n",
       "  "
      ],
      "text/plain": [
       "<IPython.core.display.HTML object>"
      ]
     },
     "metadata": {},
     "output_type": "display_data"
    }
   ],
   "source": [
    "import os\n",
    "import warnings\n",
    "warnings.filterwarnings(\"ignore\")\n",
    "\n",
    "import pandas as pd\n",
    "import numpy as np\n",
    "from collections import defaultdict\n",
    "from tqdm import tqdm, trange\n",
    "import seaborn as sns; sns.set()\n",
    "\n",
    "import torch\n",
    "import torch.nn as nn\n",
    "import torch.nn.functional as F\n",
    "from torch.utils.data import TensorDataset, DataLoader\n",
    "from torch.nn import init\n",
    "from torch import optim\n",
    "\n",
    "from sklearn.metrics import f1_score, precision_recall_fscore_support"
   ]
  },
  {
   "cell_type": "code",
   "execution_count": null,
   "metadata": {
    "colab": {
     "base_uri": "https://localhost:8080/",
     "height": 35
    },
    "id": "I5Q3x-Wlw7LJ",
    "outputId": "e4bf805e-fb3c-4db3-ef79-32e04acfb3bf"
   },
   "outputs": [
    {
     "data": {
      "text/html": [
       "\n",
       "  <style>\n",
       "    pre {\n",
       "        white-space: pre-wrap;\n",
       "    }\n",
       "  </style>\n",
       "  "
      ],
      "text/plain": [
       "<IPython.core.display.HTML object>"
      ]
     },
     "metadata": {},
     "output_type": "display_data"
    },
    {
     "data": {
      "text/plain": [
       "<torch._C.Generator at 0x7d4ab3c63fd0>"
      ]
     },
     "execution_count": 3,
     "metadata": {},
     "output_type": "execute_result"
    }
   ],
   "source": [
    "np.random.seed(630)\n",
    "torch.manual_seed(630)"
   ]
  },
  {
   "cell_type": "code",
   "execution_count": null,
   "metadata": {
    "colab": {
     "base_uri": "https://localhost:8080/",
     "height": 35
    },
    "id": "ZBfLbgX-Btd3",
    "outputId": "54902b29-8921-4810-af84-2d10fbf0f89f"
   },
   "outputs": [
    {
     "data": {
      "text/html": [
       "\n",
       "  <style>\n",
       "    pre {\n",
       "        white-space: pre-wrap;\n",
       "    }\n",
       "  </style>\n",
       "  "
      ],
      "text/plain": [
       "<IPython.core.display.HTML object>"
      ]
     },
     "metadata": {},
     "output_type": "display_data"
    },
    {
     "data": {
      "text/plain": [
       "device(type='cpu')"
      ]
     },
     "execution_count": 4,
     "metadata": {},
     "output_type": "execute_result"
    }
   ],
   "source": [
    "device = torch.device('cuda' if torch.cuda.is_available() else 'cpu')\n",
    "device"
   ]
  },
  {
   "cell_type": "code",
   "execution_count": null,
   "metadata": {
    "colab": {
     "base_uri": "https://localhost:8080/",
     "height": 53
    },
    "id": "FFl9kR9WEGWs",
    "outputId": "c3ad7cf2-da62-4898-be29-e7e9a32d806d"
   },
   "outputs": [
    {
     "data": {
      "text/html": [
       "\n",
       "  <style>\n",
       "    pre {\n",
       "        white-space: pre-wrap;\n",
       "    }\n",
       "  </style>\n",
       "  "
      ],
      "text/plain": [
       "<IPython.core.display.HTML object>"
      ]
     },
     "metadata": {},
     "output_type": "display_data"
    },
    {
     "name": "stderr",
     "output_type": "stream",
     "text": [
      "\u001b[34m\u001b[1mwandb\u001b[0m: Currently logged in as: \u001b[33manupath\u001b[0m. Use \u001b[1m`wandb login --relogin`\u001b[0m to force relogin\n"
     ]
    },
    {
     "data": {
      "text/plain": [
       "True"
      ]
     },
     "execution_count": 5,
     "metadata": {},
     "output_type": "execute_result"
    }
   ],
   "source": [
    "import wandb\n",
    "wandb.login()"
   ]
  },
  {
   "cell_type": "markdown",
   "metadata": {},
   "source": [
    "# Dataset"
   ]
  },
  {
   "cell_type": "markdown",
   "metadata": {},
   "source": [
    "## Train/val (EN)"
   ]
  },
  {
   "cell_type": "code",
   "execution_count": null,
   "metadata": {
    "colab": {
     "base_uri": "https://localhost:8080/",
     "height": 35
    },
    "id": "oCegixm8uF5B",
    "outputId": "f914c899-d618-43fd-a222-dd075233d26d"
   },
   "outputs": [
    {
     "data": {
      "text/html": [
       "\n",
       "  <style>\n",
       "    pre {\n",
       "        white-space: pre-wrap;\n",
       "    }\n",
       "  </style>\n",
       "  "
      ],
      "text/plain": [
       "<IPython.core.display.HTML object>"
      ]
     },
     "metadata": {},
     "output_type": "display_data"
    },
    {
     "data": {
      "text/plain": [
       "(11814, 1577)"
      ]
     },
     "execution_count": 6,
     "metadata": {},
     "output_type": "execute_result"
    }
   ],
   "source": [
    "train_df = pd.read_csv(\"../data/mtob_domain_en_fr_train.csv\").drop(\"text_fr\", axis=1)\n",
    "val_df = pd.read_csv(\"../data/mtob_domain_en_fr_val.csv\").drop(\"text_fr\", axis=1)\n",
    "len(train_df), len(val_df)"
   ]
  },
  {
   "cell_type": "code",
   "execution_count": null,
   "metadata": {
    "colab": {
     "base_uri": "https://localhost:8080/",
     "height": 53
    },
    "id": "_UeDiMFK7a9E",
    "outputId": "b347ecd1-6b61-448b-fbad-49ae62c0db09"
   },
   "outputs": [
    {
     "data": {
      "text/html": [
       "\n",
       "  <style>\n",
       "    pre {\n",
       "        white-space: pre-wrap;\n",
       "    }\n",
       "  </style>\n",
       "  "
      ],
      "text/plain": [
       "<IPython.core.display.HTML object>"
      ]
     },
     "metadata": {},
     "output_type": "display_data"
    },
    {
     "name": "stdout",
     "output_type": "stream",
     "text": [
      "11 classes: ['messaging', 'calling', 'event', 'timer', 'music', 'weather', 'alarm', 'people', 'reminder', 'recipes', 'news']\n"
     ]
    }
   ],
   "source": [
    "id2label = train_df[[\"label\", \"label_text\"]].drop_duplicates().set_index(\"label\")[\"label_text\"].to_dict()\n",
    "id2label = dict(sorted(id2label.items(), key=lambda item: item[0]))\n",
    "class_names = list(id2label.values())\n",
    "print(f\"{len(class_names)} classes:\", class_names)"
   ]
  },
  {
   "cell_type": "markdown",
   "metadata": {
    "id": "Ym-F02jkveiB"
   },
   "source": [
    "## Test (MT FR)\n",
    "\n",
    "The final model will be evaluated on the French test set that is machine translated to English using [NLLB-200](https://huggingface.co/docs/transformers/en/model_doc/nllb)."
   ]
  },
  {
   "cell_type": "code",
   "execution_count": null,
   "metadata": {
    "colab": {
     "base_uri": "https://localhost:8080/",
     "height": 35
    },
    "id": "QL5gLP49wVNK",
    "outputId": "bfa19bb6-f6fe-44c5-b39a-8b64576c8d1a"
   },
   "outputs": [
    {
     "data": {
      "text/html": [
       "\n",
       "  <style>\n",
       "    pre {\n",
       "        white-space: pre-wrap;\n",
       "    }\n",
       "  </style>\n",
       "  "
      ],
      "text/plain": [
       "<IPython.core.display.HTML object>"
      ]
     },
     "metadata": {},
     "output_type": "display_data"
    },
    {
     "data": {
      "text/plain": [
       "3193"
      ]
     },
     "execution_count": 8,
     "metadata": {},
     "output_type": "execute_result"
    }
   ],
   "source": [
    "test_df = pd.read_csv(\"../data/mtob_domain_en2fr_nllb_test.csv\")[[\"id\", \"label\", \"label_text\", \"text_fr2en\"]]\n",
    "len(test_df)"
   ]
  },
  {
   "cell_type": "markdown",
   "metadata": {
    "id": "SU1s0RBd0hgf"
   },
   "source": [
    "# Preprocessing"
   ]
  },
  {
   "cell_type": "code",
   "execution_count": null,
   "metadata": {
    "colab": {
     "base_uri": "https://localhost:8080/",
     "height": 17
    },
    "id": "Hp3qH0ci0ubg",
    "outputId": "a1ab0daa-45ce-4aa2-d1aa-57672989b5a7"
   },
   "outputs": [
    {
     "data": {
      "text/html": [
       "\n",
       "  <style>\n",
       "    pre {\n",
       "        white-space: pre-wrap;\n",
       "    }\n",
       "  </style>\n",
       "  "
      ],
      "text/plain": [
       "<IPython.core.display.HTML object>"
      ]
     },
     "metadata": {},
     "output_type": "display_data"
    }
   ],
   "source": [
    "def tokenize(text):\n",
    "    return text.lower().split()"
   ]
  },
  {
   "cell_type": "code",
   "execution_count": null,
   "metadata": {
    "colab": {
     "base_uri": "https://localhost:8080/",
     "height": 35
    },
    "id": "3Hp-leTg0XzI",
    "outputId": "891f8209-730c-4959-988d-d41750f8ac6f"
   },
   "outputs": [
    {
     "data": {
      "text/html": [
       "\n",
       "  <style>\n",
       "    pre {\n",
       "        white-space: pre-wrap;\n",
       "    }\n",
       "  </style>\n",
       "  "
      ],
      "text/plain": [
       "<IPython.core.display.HTML object>"
      ]
     },
     "metadata": {},
     "output_type": "display_data"
    },
    {
     "name": "stdout",
     "output_type": "stream",
     "text": [
      "No. of words in the training corpus: 8142\n"
     ]
    }
   ],
   "source": [
    "vocab_counts = defaultdict(int)\n",
    "for text in train_df[\"text_en\"].values:\n",
    "    for term in tokenize(text):\n",
    "        vocab_counts[term] += 1\n",
    "\n",
    "vocab_counts = dict(sorted(vocab_counts.items(), key=lambda x: x[1], reverse=True))\n",
    "print(f\"No. of words in the training corpus: {len(vocab_counts)}\")"
   ]
  },
  {
   "cell_type": "code",
   "execution_count": null,
   "metadata": {
    "colab": {
     "base_uri": "https://localhost:8080/",
     "height": 17
    },
    "id": "0w7HtUMHxivA",
    "outputId": "f28d1963-e513-4d5b-fb1c-a5655ec61480"
   },
   "outputs": [
    {
     "data": {
      "text/html": [
       "\n",
       "  <style>\n",
       "    pre {\n",
       "        white-space: pre-wrap;\n",
       "    }\n",
       "  </style>\n",
       "  "
      ],
      "text/plain": [
       "<IPython.core.display.HTML object>"
      ]
     },
     "metadata": {},
     "output_type": "display_data"
    }
   ],
   "source": [
    "word2index = {w: i for i, w in enumerate(sorted(vocab_counts.keys()))}\n",
    "index2word = {i: w for w, i in word2index.items()}"
   ]
  },
  {
   "cell_type": "code",
   "execution_count": null,
   "metadata": {
    "colab": {
     "base_uri": "https://localhost:8080/",
     "height": 17
    },
    "id": "kD2CmjJexi6J",
    "outputId": "a80da0d0-66a9-4165-c562-39bf9a9056d3"
   },
   "outputs": [
    {
     "data": {
      "text/html": [
       "\n",
       "  <style>\n",
       "    pre {\n",
       "        white-space: pre-wrap;\n",
       "    }\n",
       "  </style>\n",
       "  "
      ],
      "text/plain": [
       "<IPython.core.display.HTML object>"
      ]
     },
     "metadata": {},
     "output_type": "display_data"
    }
   ],
   "source": [
    "def build_term_document_matrix(documents, vocabulary, tokenize=tokenize):\n",
    "    \"\"\"\n",
    "    documents: list[str]\n",
    "    vocabulary: dict[str, int]\n",
    "    \"\"\"\n",
    "    M = np.zeros((len(documents), len(vocabulary)), dtype=int)\n",
    "    for i, doc in enumerate(documents):\n",
    "        doc = tokenize(doc)\n",
    "        for term in doc:\n",
    "            if (j := vocabulary.get(term, -1)) >= 0:\n",
    "                M[i, j] += 1\n",
    "\n",
    "    return M\n",
    "\n",
    "\n",
    "def prepare_dataset(documents, vocabulary, tokenize=tokenize, labels=None):\n",
    "    X = torch.from_numpy(build_term_document_matrix(documents, vocabulary, tokenize)).to(dtype=torch.float)\n",
    "    y = torch.from_numpy(labels).to(dtype=torch.int64) if labels is not None else None\n",
    "    return X, y"
   ]
  },
  {
   "cell_type": "code",
   "execution_count": null,
   "metadata": {
    "colab": {
     "base_uri": "https://localhost:8080/",
     "height": 17
    },
    "id": "ZExG5mZ8zwOB",
    "outputId": "aeec4f3b-cdd1-432b-e79e-ea50026154e3"
   },
   "outputs": [
    {
     "data": {
      "text/html": [
       "\n",
       "  <style>\n",
       "    pre {\n",
       "        white-space: pre-wrap;\n",
       "    }\n",
       "  </style>\n",
       "  "
      ],
      "text/plain": [
       "<IPython.core.display.HTML object>"
      ]
     },
     "metadata": {},
     "output_type": "display_data"
    }
   ],
   "source": [
    "X_train, y_train = prepare_dataset(documents=train_df[\"text_en\"].values,\n",
    "                                   vocabulary=word2index,\n",
    "                                   labels=train_df[\"label\"].values)\n",
    "\n",
    "X_val, y_val = prepare_dataset(documents=val_df[\"text_en\"].values,\n",
    "                               vocabulary=word2index,\n",
    "                               labels=val_df[\"label\"].values)"
   ]
  },
  {
   "cell_type": "code",
   "execution_count": null,
   "metadata": {
    "colab": {
     "base_uri": "https://localhost:8080/",
     "height": 90
    },
    "id": "JSUk7P482abG",
    "outputId": "91e22b02-f763-4216-cf36-c4ca32c268d9"
   },
   "outputs": [
    {
     "data": {
      "text/html": [
       "\n",
       "  <style>\n",
       "    pre {\n",
       "        white-space: pre-wrap;\n",
       "    }\n",
       "  </style>\n",
       "  "
      ],
      "text/plain": [
       "<IPython.core.display.HTML object>"
      ]
     },
     "metadata": {},
     "output_type": "display_data"
    },
    {
     "data": {
      "text/plain": [
       "(torch.Size([11814, 8142]),\n",
       " torch.Size([11814]),\n",
       " torch.Size([1577, 8142]),\n",
       " torch.Size([1577]))"
      ]
     },
     "execution_count": 51,
     "metadata": {},
     "output_type": "execute_result"
    }
   ],
   "source": [
    "X_train.shape, y_train.shape, X_val.shape, y_val.shape"
   ]
  },
  {
   "cell_type": "code",
   "execution_count": null,
   "metadata": {
    "colab": {
     "base_uri": "https://localhost:8080/",
     "height": 17
    },
    "id": "z14MI-wo_yF3",
    "outputId": "7f6ee97c-a754-46e6-d0b0-aed806ae511a"
   },
   "outputs": [
    {
     "data": {
      "text/html": [
       "\n",
       "  <style>\n",
       "    pre {\n",
       "        white-space: pre-wrap;\n",
       "    }\n",
       "  </style>\n",
       "  "
      ],
      "text/plain": [
       "<IPython.core.display.HTML object>"
      ]
     },
     "metadata": {},
     "output_type": "display_data"
    }
   ],
   "source": [
    "train_ds = TensorDataset(X_train, y_train)\n",
    "val_ds = TensorDataset(X_val, y_val)"
   ]
  },
  {
   "cell_type": "code",
   "execution_count": null,
   "metadata": {
    "colab": {
     "base_uri": "https://localhost:8080/",
     "height": 17
    },
    "id": "662N_xih8H7z",
    "outputId": "68eb659f-67e6-4482-d972-241df443bb3b"
   },
   "outputs": [
    {
     "data": {
      "text/html": [
       "\n",
       "  <style>\n",
       "    pre {\n",
       "        white-space: pre-wrap;\n",
       "    }\n",
       "  </style>\n",
       "  "
      ],
      "text/plain": [
       "<IPython.core.display.HTML object>"
      ]
     },
     "metadata": {},
     "output_type": "display_data"
    }
   ],
   "source": [
    "train_batch_size = 128\n",
    "val_batch_size = 256\n",
    "train_dataloader = DataLoader(train_ds, batch_size=train_batch_size, shuffle=True)\n",
    "val_dataloader = DataLoader(val_ds, batch_size=val_batch_size, shuffle=False)"
   ]
  },
  {
   "cell_type": "markdown",
   "metadata": {
    "id": "wQHxtg2E2f2I"
   },
   "source": [
    "# Model"
   ]
  },
  {
   "cell_type": "code",
   "execution_count": null,
   "metadata": {
    "colab": {
     "base_uri": "https://localhost:8080/",
     "height": 17
    },
    "id": "r6LTLg_Z2f80",
    "outputId": "81e126c8-eac7-4d54-9054-f0e6e16d2892"
   },
   "outputs": [
    {
     "data": {
      "text/html": [
       "\n",
       "  <style>\n",
       "    pre {\n",
       "        white-space: pre-wrap;\n",
       "    }\n",
       "  </style>\n",
       "  "
      ],
      "text/plain": [
       "<IPython.core.display.HTML object>"
      ]
     },
     "metadata": {},
     "output_type": "display_data"
    }
   ],
   "source": [
    "class MultiLayerPerceptron(nn.Module):\n",
    "    def __init__(self, input_size, hidden_size, num_classes):\n",
    "        super().__init__()\n",
    "        self.fc1 = nn.Linear(input_size, hidden_size)\n",
    "        self.relu = nn.ReLU()\n",
    "        self.fc2 = nn.Linear(hidden_size, num_classes)\n",
    "\n",
    "    def __call__(self, x):\n",
    "        out = self.fc1(x)\n",
    "        out = self.relu(out)\n",
    "        out = self.fc2(out)\n",
    "        return out"
   ]
  },
  {
   "cell_type": "code",
   "execution_count": null,
   "metadata": {
    "colab": {
     "base_uri": "https://localhost:8080/",
     "height": 108
    },
    "id": "1ufcVCRi3WHQ",
    "outputId": "422e0c76-8a37-445b-ccf9-52373aa077ce"
   },
   "outputs": [
    {
     "data": {
      "text/html": [
       "\n",
       "  <style>\n",
       "    pre {\n",
       "        white-space: pre-wrap;\n",
       "    }\n",
       "  </style>\n",
       "  "
      ],
      "text/plain": [
       "<IPython.core.display.HTML object>"
      ]
     },
     "metadata": {},
     "output_type": "display_data"
    },
    {
     "name": "stdout",
     "output_type": "stream",
     "text": [
      "MultiLayerPerceptron(\n",
      "  (fc1): Linear(in_features=8142, out_features=512, bias=True)\n",
      "  (relu): ReLU()\n",
      "  (fc2): Linear(in_features=512, out_features=11, bias=True)\n",
      ")\n"
     ]
    }
   ],
   "source": [
    "hidden_layer_size = 512\n",
    "model = MultiLayerPerceptron(input_size=X_train.shape[1],\n",
    "                             hidden_size=hidden_layer_size,\n",
    "                             num_classes=len(class_names))\n",
    "\n",
    "print(model)"
   ]
  },
  {
   "cell_type": "markdown",
   "metadata": {
    "id": "dq9mpHtk3TaZ"
   },
   "source": [
    "# Training"
   ]
  },
  {
   "cell_type": "code",
   "execution_count": null,
   "metadata": {
    "colab": {
     "base_uri": "https://localhost:8080/",
     "height": 17
    },
    "id": "JQkvZJep7YRt",
    "outputId": "069a546e-56f4-4368-b551-caef989c4edd"
   },
   "outputs": [
    {
     "data": {
      "text/html": [
       "\n",
       "  <style>\n",
       "    pre {\n",
       "        white-space: pre-wrap;\n",
       "    }\n",
       "  </style>\n",
       "  "
      ],
      "text/plain": [
       "<IPython.core.display.HTML object>"
      ]
     },
     "metadata": {},
     "output_type": "display_data"
    }
   ],
   "source": [
    "learning_rate = 0.001\n",
    "optimizer = optim.AdamW(model.parameters(), lr=learning_rate)\n",
    "criterion = nn.CrossEntropyLoss()"
   ]
  },
  {
   "cell_type": "code",
   "execution_count": null,
   "metadata": {
    "colab": {
     "base_uri": "https://localhost:8080/",
     "height": 210,
     "referenced_widgets": [
      "2ff9909aef7640aa818e4ec7de7a21ff",
      "15749a23cf8b4b76934e6ab7b16015b7",
      "96cb5cac06ab4229b54aba87315ec940",
      "e38bb5c338bc49768e0ef76f78497272",
      "ad258e3aaded4201a962053e4fbaab6d",
      "576b5c4ee8ec402a9b313212d06e5596",
      "f15b611f86b04de6aa2b24f5aee06171",
      "11681b81421e440997f1f95a912957f5"
     ]
    },
    "id": "Qf-MiHzJCuI9",
    "outputId": "9c386ab9-72c0-4d84-c7f1-3946ad1116a0"
   },
   "outputs": [
    {
     "data": {
      "text/html": [
       "\n",
       "  <style>\n",
       "    pre {\n",
       "        white-space: pre-wrap;\n",
       "    }\n",
       "  </style>\n",
       "  "
      ],
      "text/plain": [
       "<IPython.core.display.HTML object>"
      ]
     },
     "metadata": {},
     "output_type": "display_data"
    },
    {
     "data": {
      "text/html": [
       "Finishing last run (ID:unp7cstx) before initializing another..."
      ],
      "text/plain": [
       "<IPython.core.display.HTML object>"
      ]
     },
     "metadata": {},
     "output_type": "display_data"
    },
    {
     "data": {
      "application/vnd.jupyter.widget-view+json": {
       "model_id": "2ff9909aef7640aa818e4ec7de7a21ff",
       "version_major": 2,
       "version_minor": 0
      },
      "text/plain": [
       "VBox(children=(Label(value='0.001 MB of 0.001 MB uploaded\\r'), FloatProgress(value=1.0, max=1.0)))"
      ]
     },
     "metadata": {},
     "output_type": "display_data"
    },
    {
     "data": {
      "text/html": [
       " View run <strong style=\"color:#cdcd00\">mlp</strong> at: <a href='https://wandb.ai/anupath/SI630-Project/runs/unp7cstx' target=\"_blank\">https://wandb.ai/anupath/SI630-Project/runs/unp7cstx</a><br/> View project at: <a href='https://wandb.ai/anupath/SI630-Project' target=\"_blank\">https://wandb.ai/anupath/SI630-Project</a><br/>Synced 5 W&B file(s), 0 media file(s), 0 artifact file(s) and 0 other file(s)"
      ],
      "text/plain": [
       "<IPython.core.display.HTML object>"
      ]
     },
     "metadata": {},
     "output_type": "display_data"
    },
    {
     "data": {
      "text/html": [
       "Find logs at: <code>./wandb/run-20240426_211203-unp7cstx/logs</code>"
      ],
      "text/plain": [
       "<IPython.core.display.HTML object>"
      ]
     },
     "metadata": {},
     "output_type": "display_data"
    },
    {
     "data": {
      "text/html": [
       "Successfully finished last run (ID:unp7cstx). Initializing new run:<br/>"
      ],
      "text/plain": [
       "<IPython.core.display.HTML object>"
      ]
     },
     "metadata": {},
     "output_type": "display_data"
    },
    {
     "data": {
      "text/html": [
       "Tracking run with wandb version 0.16.6"
      ],
      "text/plain": [
       "<IPython.core.display.HTML object>"
      ]
     },
     "metadata": {},
     "output_type": "display_data"
    },
    {
     "data": {
      "text/html": [
       "Run data is saved locally in <code>/content/wandb/run-20240426_212020-tjxu7iqq</code>"
      ],
      "text/plain": [
       "<IPython.core.display.HTML object>"
      ]
     },
     "metadata": {},
     "output_type": "display_data"
    },
    {
     "data": {
      "text/html": [
       "Syncing run <strong><a href='https://wandb.ai/anupath/SI630-Project/runs/tjxu7iqq' target=\"_blank\">mlp</a></strong> to <a href='https://wandb.ai/anupath/SI630-Project' target=\"_blank\">Weights & Biases</a> (<a href='https://wandb.me/run' target=\"_blank\">docs</a>)<br/>"
      ],
      "text/plain": [
       "<IPython.core.display.HTML object>"
      ]
     },
     "metadata": {},
     "output_type": "display_data"
    },
    {
     "data": {
      "text/html": [
       " View project at <a href='https://wandb.ai/anupath/SI630-Project' target=\"_blank\">https://wandb.ai/anupath/SI630-Project</a>"
      ],
      "text/plain": [
       "<IPython.core.display.HTML object>"
      ]
     },
     "metadata": {},
     "output_type": "display_data"
    },
    {
     "data": {
      "text/html": [
       " View run at <a href='https://wandb.ai/anupath/SI630-Project/runs/tjxu7iqq' target=\"_blank\">https://wandb.ai/anupath/SI630-Project/runs/tjxu7iqq</a>"
      ],
      "text/plain": [
       "<IPython.core.display.HTML object>"
      ]
     },
     "metadata": {},
     "output_type": "display_data"
    }
   ],
   "source": [
    "max_epochs = 20\n",
    "logging_interval_loss = 100\n",
    "logging_interval_score = 100\n",
    "\n",
    "training_config = {\n",
    "    \"model\": \"MTOBDomainClassifier\",\n",
    "    \"dataset\": {\n",
    "        \"train\": \"mtob_domain_en_train\",\n",
    "        \"val\": \"mtob_domain_en_val\",\n",
    "    },\n",
    "    \"vocabulary_size\": X_train.shape[1],\n",
    "    \"hidden_layer_size\": hidden_layer_size,\n",
    "    \"learning_rate\": learning_rate,\n",
    "    \"train_batch_size\": train_batch_size,\n",
    "    \"val_batch_size\": val_batch_size,\n",
    "    \"epochs\": max_epochs,\n",
    "    \"logging_intervals\": {\n",
    "        \"train_loss\": logging_interval_loss,\n",
    "        \"dev_score\": logging_interval_score,\n",
    "    },\n",
    "    \"device\": device,\n",
    "}\n",
    "\n",
    "run_name = \"mlp\"\n",
    "run = wandb.init(\n",
    "    project=\"SI630-Project\",\n",
    "    name=run_name,\n",
    "    config=training_config,\n",
    ")"
   ]
  },
  {
   "cell_type": "code",
   "execution_count": null,
   "metadata": {
    "colab": {
     "base_uri": "https://localhost:8080/",
     "height": 17
    },
    "id": "-fEApcALK5bQ",
    "outputId": "27754f54-b5cd-4faa-a691-d1594f366511"
   },
   "outputs": [
    {
     "data": {
      "text/html": [
       "\n",
       "  <style>\n",
       "    pre {\n",
       "        white-space: pre-wrap;\n",
       "    }\n",
       "  </style>\n",
       "  "
      ],
      "text/plain": [
       "<IPython.core.display.HTML object>"
      ]
     },
     "metadata": {},
     "output_type": "display_data"
    },
    {
     "data": {
      "text/html": [
       "\n",
       "  <style>\n",
       "    pre {\n",
       "        white-space: pre-wrap;\n",
       "    }\n",
       "  </style>\n",
       "  "
      ],
      "text/plain": [
       "<IPython.core.display.HTML object>"
      ]
     },
     "metadata": {},
     "output_type": "display_data"
    },
    {
     "data": {
      "text/html": [
       "\n",
       "  <style>\n",
       "    pre {\n",
       "        white-space: pre-wrap;\n",
       "    }\n",
       "  </style>\n",
       "  "
      ],
      "text/plain": [
       "<IPython.core.display.HTML object>"
      ]
     },
     "metadata": {},
     "output_type": "display_data"
    }
   ],
   "source": [
    "def predict(model, dataloader, device):\n",
    "    true_labels = []\n",
    "    pred_labels = []\n",
    "    pred_scores = []\n",
    "\n",
    "    with torch.no_grad():\n",
    "        with tqdm(dataloader, unit=\"batches\") as itr:\n",
    "            for (inputs, labels) in itr:\n",
    "                inputs = inputs.to(device)\n",
    "                outputs = model(inputs)\n",
    "                outputs = F.softmax(outputs, 1)\n",
    "                scores_, labels_ = torch.max(outputs, 1)\n",
    "                true_labels.append(labels.cpu().numpy())\n",
    "                # pred_labels.append(torch.argmax(outputs, 1).cpu().numpy().astype(int))\n",
    "                pred_labels.append(labels_.cpu().numpy())\n",
    "                pred_scores.append(scores_.cpu().numpy())\n",
    "\n",
    "    true_labels = np.concatenate(true_labels).squeeze()\n",
    "    pred_labels = np.concatenate(pred_labels).squeeze()\n",
    "    pred_scores = np.concatenate(pred_scores).squeeze()\n",
    "    return true_labels, pred_labels, pred_scores\n",
    "\n",
    "def evaluate(true_labels, pred_labels):\n",
    "    precision, recall, micro_f1, _ = precision_recall_fscore_support(true_labels, pred_labels, average=\"micro\")\n",
    "    macro_f1 = f1_score(true_labels, pred_labels, average=\"macro\")\n",
    "    weighted_f1 = f1_score(true_labels, pred_labels, average=\"weighted\")\n",
    "    return {\"f1\": micro_f1, \"precision\": precision, \"recall\": recall, \"macro_f1\": macro_f1, \"weighted_f1\": weighted_f1}"
   ]
  },
  {
   "cell_type": "code",
   "execution_count": null,
   "metadata": {
    "colab": {
     "base_uri": "https://localhost:8080/",
     "height": 17
    },
    "id": "8LiCbnpaG5cy",
    "outputId": "b35e2e7e-dc26-4284-cc0d-87895f7f76ca"
   },
   "outputs": [
    {
     "data": {
      "text/html": [
       "\n",
       "  <style>\n",
       "    pre {\n",
       "        white-space: pre-wrap;\n",
       "    }\n",
       "  </style>\n",
       "  "
      ],
      "text/plain": [
       "<IPython.core.display.HTML object>"
      ]
     },
     "metadata": {},
     "output_type": "display_data"
    }
   ],
   "source": [
    "run_name = \"mlp\"\n",
    "run_dir = os.path.join(\"../outputs/en_only\", run_name)\n",
    "os.makedirs(run_dir, exist_ok=True)\n",
    "checkpoint_path = os.path.join(run_dir, \"best_model.pth\")"
   ]
  },
  {
   "cell_type": "code",
   "execution_count": null,
   "metadata": {
    "id": "1wrCHZI3E5Gm"
   },
   "outputs": [],
   "source": [
    "global_step = 0\n",
    "if logging_interval_score:\n",
    "    best_val_f1 = 0\n",
    "\n",
    "model.to(device)\n",
    "model.train(True)\n",
    "\n",
    "for epoch in trange(max_epochs, unit=\"epochs\"):\n",
    "    losses = []\n",
    "\n",
    "    with tqdm(train_dataloader, unit=\"batches\") as itr:\n",
    "        for global_step, (inputs, labels) in enumerate(itr, start=global_step + 1):\n",
    "            inputs = inputs.to(device)\n",
    "            labels = labels.to(device)\n",
    "\n",
    "            optimizer.zero_grad()\n",
    "            outputs = model(inputs)\n",
    "            loss = criterion(outputs, labels)\n",
    "            loss.backward()\n",
    "            optimizer.step()\n",
    "\n",
    "            losses.append(loss.item())\n",
    "            if logging_interval_loss and global_step % logging_interval_loss == 0:\n",
    "                avg_loss = sum(losses) / len(losses)\n",
    "                wandb.log({\"train/global_step\": global_step, \"train/loss\": avg_loss})\n",
    "                losses = []\n",
    "\n",
    "            if logging_interval_score and global_step % logging_interval_score == 0:\n",
    "                model.eval()\n",
    "                val_true, val_preds, _ = predict(model, val_dataloader, device)\n",
    "                val_metrics = evaluate(val_true, val_preds)\n",
    "                val_metrics = {f\"eval/{k}\": v for k, v in val_metrics.items()}\n",
    "                wandb.log({\"eval/global_step\": global_step, **val_metrics})\n",
    "\n",
    "                if (val_f1 := val_metrics[\"eval/f1\"]) > best_val_f1:\n",
    "                    best_val_f1 = val_f1\n",
    "                    torch.save(model.state_dict(), checkpoint_path)\n",
    "\n",
    "                model.train(True)\n",
    "\n",
    "model.load_state_dict(torch.load(checkpoint_path))\n",
    "model.eval()"
   ]
  },
  {
   "cell_type": "markdown",
   "metadata": {
    "id": "GfNTyyngUx22"
   },
   "source": [
    "# Predict"
   ]
  },
  {
   "cell_type": "code",
   "execution_count": null,
   "metadata": {
    "colab": {
     "base_uri": "https://localhost:8080/",
     "height": 35
    },
    "id": "2F9fEMFPW6ky",
    "outputId": "c70eb2e6-691c-4eee-bf6b-279291e2425b"
   },
   "outputs": [
    {
     "data": {
      "text/html": [
       "\n",
       "  <style>\n",
       "    pre {\n",
       "        white-space: pre-wrap;\n",
       "    }\n",
       "  </style>\n",
       "  "
      ],
      "text/plain": [
       "<IPython.core.display.HTML object>"
      ]
     },
     "metadata": {},
     "output_type": "display_data"
    },
    {
     "data": {
      "text/html": [
       "\n",
       "  <style>\n",
       "    pre {\n",
       "        white-space: pre-wrap;\n",
       "    }\n",
       "  </style>\n",
       "  "
      ],
      "text/plain": [
       "<IPython.core.display.HTML object>"
      ]
     },
     "metadata": {},
     "output_type": "display_data"
    },
    {
     "data": {
      "text/html": [
       "\n",
       "  <style>\n",
       "    pre {\n",
       "        white-space: pre-wrap;\n",
       "    }\n",
       "  </style>\n",
       "  "
      ],
      "text/plain": [
       "<IPython.core.display.HTML object>"
      ]
     },
     "metadata": {},
     "output_type": "display_data"
    },
    {
     "name": "stderr",
     "output_type": "stream",
     "text": [
      "100%|██████████| 13/13 [00:04<00:00,  3.04batches/s]\n"
     ]
    }
   ],
   "source": [
    "X_test, y_test = prepare_dataset(documents=test_df[\"text_fr2en\"].values, vocabulary=word2index, labels=np.full(len(test_df), -1))\n",
    "test_ds = TensorDataset(X_test, y_test)\n",
    "test_dataloader = DataLoader(test_ds, batch_size=val_batch_size, shuffle=False)\n",
    "\n",
    "_, test_preds, test_scores = predict(model, test_dataloader, device)\n",
    "test_preds_df = test_df[[\"id\"]]\n",
    "test_preds_df[\"label\"] = test_preds\n",
    "test_preds_df[\"score\"] = test_scores\n",
    "test_preds_df.to_csv(os.path.join(run_dir, \"translate_test_preds.csv\"), index=False)"
   ]
  },
  {
   "cell_type": "code",
   "execution_count": null,
   "metadata": {
    "id": "mNBkp6jFdfpz"
   },
   "outputs": [],
   "source": []
  }
 ],
 "metadata": {
  "colab": {
   "provenance": []
  },
  "kernelspec": {
   "display_name": "Python 3 (ipykernel)",
   "language": "python",
   "name": "python3"
  },
  "language_info": {
   "codemirror_mode": {
    "name": "ipython",
    "version": 3
   },
   "file_extension": ".py",
   "mimetype": "text/x-python",
   "name": "python",
   "nbconvert_exporter": "python",
   "pygments_lexer": "ipython3",
   "version": "3.11.4"
  },
  "widgets": {
   "application/vnd.jupyter.widget-state+json": {
    "11681b81421e440997f1f95a912957f5": {
     "model_module": "@jupyter-widgets/controls",
     "model_module_version": "1.5.0",
     "model_name": "ProgressStyleModel",
     "state": {
      "_model_module": "@jupyter-widgets/controls",
      "_model_module_version": "1.5.0",
      "_model_name": "ProgressStyleModel",
      "_view_count": null,
      "_view_module": "@jupyter-widgets/base",
      "_view_module_version": "1.2.0",
      "_view_name": "StyleView",
      "bar_color": null,
      "description_width": ""
     }
    },
    "15749a23cf8b4b76934e6ab7b16015b7": {
     "model_module": "@jupyter-widgets/controls",
     "model_module_version": "1.5.0",
     "model_name": "LabelModel",
     "state": {
      "_dom_classes": [],
      "_model_module": "@jupyter-widgets/controls",
      "_model_module_version": "1.5.0",
      "_model_name": "LabelModel",
      "_view_count": null,
      "_view_module": "@jupyter-widgets/controls",
      "_view_module_version": "1.5.0",
      "_view_name": "LabelView",
      "description": "",
      "description_tooltip": null,
      "layout": "IPY_MODEL_ad258e3aaded4201a962053e4fbaab6d",
      "placeholder": "​",
      "style": "IPY_MODEL_576b5c4ee8ec402a9b313212d06e5596",
      "value": "0.011 MB of 0.011 MB uploaded\r"
     }
    },
    "2ff9909aef7640aa818e4ec7de7a21ff": {
     "model_module": "@jupyter-widgets/controls",
     "model_module_version": "1.5.0",
     "model_name": "VBoxModel",
     "state": {
      "_dom_classes": [],
      "_model_module": "@jupyter-widgets/controls",
      "_model_module_version": "1.5.0",
      "_model_name": "VBoxModel",
      "_view_count": null,
      "_view_module": "@jupyter-widgets/controls",
      "_view_module_version": "1.5.0",
      "_view_name": "VBoxView",
      "box_style": "",
      "children": [
       "IPY_MODEL_15749a23cf8b4b76934e6ab7b16015b7",
       "IPY_MODEL_96cb5cac06ab4229b54aba87315ec940"
      ],
      "layout": "IPY_MODEL_e38bb5c338bc49768e0ef76f78497272"
     }
    },
    "576b5c4ee8ec402a9b313212d06e5596": {
     "model_module": "@jupyter-widgets/controls",
     "model_module_version": "1.5.0",
     "model_name": "DescriptionStyleModel",
     "state": {
      "_model_module": "@jupyter-widgets/controls",
      "_model_module_version": "1.5.0",
      "_model_name": "DescriptionStyleModel",
      "_view_count": null,
      "_view_module": "@jupyter-widgets/base",
      "_view_module_version": "1.2.0",
      "_view_name": "StyleView",
      "description_width": ""
     }
    },
    "96cb5cac06ab4229b54aba87315ec940": {
     "model_module": "@jupyter-widgets/controls",
     "model_module_version": "1.5.0",
     "model_name": "FloatProgressModel",
     "state": {
      "_dom_classes": [],
      "_model_module": "@jupyter-widgets/controls",
      "_model_module_version": "1.5.0",
      "_model_name": "FloatProgressModel",
      "_view_count": null,
      "_view_module": "@jupyter-widgets/controls",
      "_view_module_version": "1.5.0",
      "_view_name": "ProgressView",
      "bar_style": "",
      "description": "",
      "description_tooltip": null,
      "layout": "IPY_MODEL_f15b611f86b04de6aa2b24f5aee06171",
      "max": 1,
      "min": 0,
      "orientation": "horizontal",
      "style": "IPY_MODEL_11681b81421e440997f1f95a912957f5",
      "value": 1
     }
    },
    "ad258e3aaded4201a962053e4fbaab6d": {
     "model_module": "@jupyter-widgets/base",
     "model_module_version": "1.2.0",
     "model_name": "LayoutModel",
     "state": {
      "_model_module": "@jupyter-widgets/base",
      "_model_module_version": "1.2.0",
      "_model_name": "LayoutModel",
      "_view_count": null,
      "_view_module": "@jupyter-widgets/base",
      "_view_module_version": "1.2.0",
      "_view_name": "LayoutView",
      "align_content": null,
      "align_items": null,
      "align_self": null,
      "border": null,
      "bottom": null,
      "display": null,
      "flex": null,
      "flex_flow": null,
      "grid_area": null,
      "grid_auto_columns": null,
      "grid_auto_flow": null,
      "grid_auto_rows": null,
      "grid_column": null,
      "grid_gap": null,
      "grid_row": null,
      "grid_template_areas": null,
      "grid_template_columns": null,
      "grid_template_rows": null,
      "height": null,
      "justify_content": null,
      "justify_items": null,
      "left": null,
      "margin": null,
      "max_height": null,
      "max_width": null,
      "min_height": null,
      "min_width": null,
      "object_fit": null,
      "object_position": null,
      "order": null,
      "overflow": null,
      "overflow_x": null,
      "overflow_y": null,
      "padding": null,
      "right": null,
      "top": null,
      "visibility": null,
      "width": null
     }
    },
    "e38bb5c338bc49768e0ef76f78497272": {
     "model_module": "@jupyter-widgets/base",
     "model_module_version": "1.2.0",
     "model_name": "LayoutModel",
     "state": {
      "_model_module": "@jupyter-widgets/base",
      "_model_module_version": "1.2.0",
      "_model_name": "LayoutModel",
      "_view_count": null,
      "_view_module": "@jupyter-widgets/base",
      "_view_module_version": "1.2.0",
      "_view_name": "LayoutView",
      "align_content": null,
      "align_items": null,
      "align_self": null,
      "border": null,
      "bottom": null,
      "display": null,
      "flex": null,
      "flex_flow": null,
      "grid_area": null,
      "grid_auto_columns": null,
      "grid_auto_flow": null,
      "grid_auto_rows": null,
      "grid_column": null,
      "grid_gap": null,
      "grid_row": null,
      "grid_template_areas": null,
      "grid_template_columns": null,
      "grid_template_rows": null,
      "height": null,
      "justify_content": null,
      "justify_items": null,
      "left": null,
      "margin": null,
      "max_height": null,
      "max_width": null,
      "min_height": null,
      "min_width": null,
      "object_fit": null,
      "object_position": null,
      "order": null,
      "overflow": null,
      "overflow_x": null,
      "overflow_y": null,
      "padding": null,
      "right": null,
      "top": null,
      "visibility": null,
      "width": null
     }
    },
    "f15b611f86b04de6aa2b24f5aee06171": {
     "model_module": "@jupyter-widgets/base",
     "model_module_version": "1.2.0",
     "model_name": "LayoutModel",
     "state": {
      "_model_module": "@jupyter-widgets/base",
      "_model_module_version": "1.2.0",
      "_model_name": "LayoutModel",
      "_view_count": null,
      "_view_module": "@jupyter-widgets/base",
      "_view_module_version": "1.2.0",
      "_view_name": "LayoutView",
      "align_content": null,
      "align_items": null,
      "align_self": null,
      "border": null,
      "bottom": null,
      "display": null,
      "flex": null,
      "flex_flow": null,
      "grid_area": null,
      "grid_auto_columns": null,
      "grid_auto_flow": null,
      "grid_auto_rows": null,
      "grid_column": null,
      "grid_gap": null,
      "grid_row": null,
      "grid_template_areas": null,
      "grid_template_columns": null,
      "grid_template_rows": null,
      "height": null,
      "justify_content": null,
      "justify_items": null,
      "left": null,
      "margin": null,
      "max_height": null,
      "max_width": null,
      "min_height": null,
      "min_width": null,
      "object_fit": null,
      "object_position": null,
      "order": null,
      "overflow": null,
      "overflow_x": null,
      "overflow_y": null,
      "padding": null,
      "right": null,
      "top": null,
      "visibility": null,
      "width": null
     }
    }
   }
  }
 },
 "nbformat": 4,
 "nbformat_minor": 1
}
