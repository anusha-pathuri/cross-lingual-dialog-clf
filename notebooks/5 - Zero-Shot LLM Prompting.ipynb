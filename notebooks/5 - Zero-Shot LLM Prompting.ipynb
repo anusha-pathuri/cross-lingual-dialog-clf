{
 "cells": [
  {
   "cell_type": "markdown",
   "metadata": {
    "id": "EUT6JwASI7lM"
   },
   "source": [
    "Prompt GPT-3.5 with instructions for a classification task."
   ]
  },
  {
   "cell_type": "code",
   "execution_count": null,
   "metadata": {
    "colab": {
     "base_uri": "https://localhost:8080/",
     "height": 582
    },
    "id": "yGTEOtNUVT31",
    "outputId": "42870199-df70-4e0c-8f96-6474333b207b"
   },
   "outputs": [],
   "source": [
    "# import sys\n",
    "# !{sys.executable} -m pip install openai"
   ]
  },
  {
   "cell_type": "code",
   "execution_count": null,
   "metadata": {
    "colab": {
     "base_uri": "https://localhost:8080/",
     "height": 17
    },
    "id": "seBBDarFOihA",
    "outputId": "0c0bd9bb-61a9-4afe-d5e0-e468afb33f7f"
   },
   "outputs": [
    {
     "data": {
      "text/html": [
       "\n",
       "  <style>\n",
       "    pre {\n",
       "        white-space: pre-wrap;\n",
       "    }\n",
       "  </style>\n",
       "  "
      ],
      "text/plain": [
       "<IPython.core.display.HTML object>"
      ]
     },
     "metadata": {},
     "output_type": "display_data"
    }
   ],
   "source": [
    "import os\n",
    "import warnings\n",
    "warnings.filterwarnings(\"ignore\")\n",
    "\n",
    "import pandas as pd\n",
    "from tqdm import tqdm\n",
    "\n",
    "from openai import OpenAI\n",
    "os.environ[\"OPENAI_API_KEY\"] = \"\""
   ]
  },
  {
   "cell_type": "code",
   "execution_count": null,
   "metadata": {
    "colab": {
     "base_uri": "https://localhost:8080/",
     "height": 17
    },
    "id": "a1emvLr8Oz8C",
    "outputId": "3d5304b7-167f-4998-b0fc-123f5a46084a"
   },
   "outputs": [
    {
     "data": {
      "text/html": [
       "\n",
       "  <style>\n",
       "    pre {\n",
       "        white-space: pre-wrap;\n",
       "    }\n",
       "  </style>\n",
       "  "
      ],
      "text/plain": [
       "<IPython.core.display.HTML object>"
      ]
     },
     "metadata": {},
     "output_type": "display_data"
    }
   ],
   "source": [
    "val_df = pd.read_csv(\"../data/mtob_domain_en_fr_val.csv\")\n",
    "test_df = pd.read_csv(\"../data/mtob_domain_en_fr_test.csv\")"
   ]
  },
  {
   "cell_type": "code",
   "execution_count": null,
   "metadata": {
    "colab": {
     "base_uri": "https://localhost:8080/",
     "height": 17
    },
    "id": "WZkIQRkMI6cK",
    "outputId": "838f7151-8561-4f10-d9cc-6301e055fd4a"
   },
   "outputs": [
    {
     "data": {
      "text/html": [
       "\n",
       "  <style>\n",
       "    pre {\n",
       "        white-space: pre-wrap;\n",
       "    }\n",
       "  </style>\n",
       "  "
      ],
      "text/plain": [
       "<IPython.core.display.HTML object>"
      ]
     },
     "metadata": {},
     "output_type": "display_data"
    }
   ],
   "source": [
    "labels_fr = [\"la messagerie\", \"l'appel\", \"l'événement\", \"la minuterie\", \"la musique\", \"le temps\", \"l'alarme\", \"les personnes\", \"le rappel\", \"les recettes\", \"les nouvelles\"]\n",
    "labels_en = ['messaging', 'calling', 'event', 'timer', 'music', 'weather', 'alarm', 'people', 'reminder', 'recipes', 'news']\n",
    "labels_fr2en = dict(zip(labels_fr, labels_en))\n",
    "label2id = {\n",
    "    \"alarm\": 6,\n",
    "    \"calling\": 1,\n",
    "    \"event\": 2,\n",
    "    \"messaging\": 0,\n",
    "    \"music\": 4,\n",
    "    \"news\": 10,\n",
    "    \"people\": 7,\n",
    "    \"recipes\": 9,\n",
    "    \"reminder\": 8,\n",
    "    \"timer\": 3,\n",
    "    \"weather\": 5\n",
    "}"
   ]
  },
  {
   "cell_type": "code",
   "execution_count": null,
   "metadata": {
    "colab": {
     "base_uri": "https://localhost:8080/",
     "height": 108
    },
    "id": "fv_ECte5I3lg",
    "outputId": "beecc51e-f417-4d98-fe0b-7ae66c334f18"
   },
   "outputs": [
    {
     "data": {
      "text/html": [
       "\n",
       "  <style>\n",
       "    pre {\n",
       "        white-space: pre-wrap;\n",
       "    }\n",
       "  </style>\n",
       "  "
      ],
      "text/plain": [
       "<IPython.core.display.HTML object>"
      ]
     },
     "metadata": {},
     "output_type": "display_data"
    },
    {
     "name": "stdout",
     "output_type": "stream",
     "text": [
      "Your task is to determine what category a phrase is related to. Both the phrase and the category will be in French.\n",
      "Possible categories: la messagerie, l'appel, l'événement, la minuterie, la musique, le temps, l'alarme, les personnes, le rappel, les recettes, les nouvelles.\n",
      "Phrase: {text_fr} \n",
      "Your answer (a single category from the list of possible categories): \n"
     ]
    }
   ],
   "source": [
    "en_prompt_template = (\n",
    "    \"Your task is to determine what category a phrase is related to. Both the phrase and the category will be in French.\\n\"\n",
    "    \"Possible categories: la messagerie, l'appel, l'événement, la minuterie, la musique, le temps, l'alarme, les personnes, le rappel, les recettes, les nouvelles.\\n\"\n",
    "    \"Phrase: {text_fr} \\n\"\n",
    "    \"Your answer (a single category from the list of possible categories): \"\n",
    ")\n",
    "print(en_prompt_template)"
   ]
  },
  {
   "cell_type": "code",
   "execution_count": null,
   "metadata": {
    "colab": {
     "base_uri": "https://localhost:8080/",
     "height": 17
    },
    "id": "4NU5a8BdIuq4",
    "outputId": "729bb0ec-700d-41ce-a623-411f1d63e621"
   },
   "outputs": [
    {
     "data": {
      "text/html": [
       "\n",
       "  <style>\n",
       "    pre {\n",
       "        white-space: pre-wrap;\n",
       "    }\n",
       "  </style>\n",
       "  "
      ],
      "text/plain": [
       "<IPython.core.display.HTML object>"
      ]
     },
     "metadata": {},
     "output_type": "display_data"
    }
   ],
   "source": [
    "model_name = \"GPT-3.5\"\n",
    "model_version = \"gpt-3.5-turbo\""
   ]
  },
  {
   "cell_type": "code",
   "execution_count": null,
   "metadata": {
    "colab": {
     "base_uri": "https://localhost:8080/",
     "height": 17
    },
    "id": "0727V2qPIyTS",
    "outputId": "680126dc-1e42-42b7-be75-706fab1011b0"
   },
   "outputs": [
    {
     "data": {
      "text/html": [
       "\n",
       "  <style>\n",
       "    pre {\n",
       "        white-space: pre-wrap;\n",
       "    }\n",
       "  </style>\n",
       "  "
      ],
      "text/plain": [
       "<IPython.core.display.HTML object>"
      ]
     },
     "metadata": {},
     "output_type": "display_data"
    }
   ],
   "source": [
    "client = OpenAI(\n",
    "    base_url=\"https://openai.vocareum.com/v1\",\n",
    "    api_key=os.environ.get(\"OPENAI_API_KEY\")\n",
    ")\n",
    "\n",
    "def query_openai(prompt, model_name=model_version):\n",
    "    response = client.chat.completions.create(\n",
    "        model=model_name,\n",
    "        messages=[{\n",
    "            \"role\": \"user\",\n",
    "            \"content\": prompt\n",
    "        }]\n",
    "    )\n",
    "    answer = response.choices[0].message.content\n",
    "    return answer"
   ]
  },
  {
   "cell_type": "code",
   "execution_count": null,
   "metadata": {
    "colab": {
     "base_uri": "https://localhost:8080/",
     "height": 126
    },
    "id": "aKWMdDI4V0J-",
    "outputId": "0339f693-17af-4c7a-f6de-7041afd88da2"
   },
   "outputs": [
    {
     "data": {
      "text/html": [
       "\n",
       "  <style>\n",
       "    pre {\n",
       "        white-space: pre-wrap;\n",
       "    }\n",
       "  </style>\n",
       "  "
      ],
      "text/plain": [
       "<IPython.core.display.HTML object>"
      ]
     },
     "metadata": {},
     "output_type": "display_data"
    },
    {
     "data": {
      "text/plain": [
       "id                                             3136333730363831\n",
       "text_en              where will american federal aid be sent to\n",
       "text_fr       Où est-ce que l'aide fédérale américaine sera-...\n",
       "label                                                        10\n",
       "label_text                                                 news\n",
       "Name: 28, dtype: object"
      ]
     },
     "execution_count": 21,
     "metadata": {},
     "output_type": "execute_result"
    }
   ],
   "source": [
    "example = val_df.query(\"label_text == 'news'\").iloc[0]\n",
    "example"
   ]
  },
  {
   "cell_type": "code",
   "execution_count": null,
   "metadata": {
    "colab": {
     "base_uri": "https://localhost:8080/",
     "height": 108
    },
    "id": "mVKlbswXVtju",
    "outputId": "c7724191-d3d4-4392-df13-c7d72ab46b92"
   },
   "outputs": [
    {
     "data": {
      "text/html": [
       "\n",
       "  <style>\n",
       "    pre {\n",
       "        white-space: pre-wrap;\n",
       "    }\n",
       "  </style>\n",
       "  "
      ],
      "text/plain": [
       "<IPython.core.display.HTML object>"
      ]
     },
     "metadata": {},
     "output_type": "display_data"
    },
    {
     "name": "stdout",
     "output_type": "stream",
     "text": [
      "Your task is to determine what category a phrase is related to. Both the phrase and the category will be in French.\n",
      "Possible categories: la messagerie, l'appel, l'événement, la minuterie, la musique, le temps, l'alarme, les personnes, le rappel, les recettes, les nouvelles.\n",
      "Phrase: Où est-ce que l'aide fédérale américaine sera-t-elle envoyée ? \n",
      "Your answer (a single category from the list of possible categories): \n"
     ]
    }
   ],
   "source": [
    "en_prompt = en_prompt_template.format_map(example)\n",
    "print(en_prompt)"
   ]
  },
  {
   "cell_type": "code",
   "execution_count": null,
   "metadata": {
    "colab": {
     "base_uri": "https://localhost:8080/",
     "height": 36
    },
    "id": "jjGbIc_uVrRA",
    "outputId": "3ceb4cf5-fc41-4692-eeea-7fab0b1b83f3"
   },
   "outputs": [
    {
     "data": {
      "text/html": [
       "\n",
       "  <style>\n",
       "    pre {\n",
       "        white-space: pre-wrap;\n",
       "    }\n",
       "  </style>\n",
       "  "
      ],
      "text/plain": [
       "<IPython.core.display.HTML object>"
      ]
     },
     "metadata": {},
     "output_type": "display_data"
    },
    {
     "data": {
      "application/vnd.google.colaboratory.intrinsic+json": {
       "type": "string"
      },
      "text/plain": [
       "'les nouvelles'"
      ]
     },
     "execution_count": 23,
     "metadata": {},
     "output_type": "execute_result"
    }
   ],
   "source": [
    "query_openai(en_prompt)"
   ]
  },
  {
   "cell_type": "code",
   "execution_count": null,
   "metadata": {
    "colab": {
     "base_uri": "https://localhost:8080/",
     "height": 17
    },
    "id": "ICCS-xLiYLkv",
    "outputId": "ac06209c-8606-42b3-9f21-3e137c689d90"
   },
   "outputs": [
    {
     "data": {
      "text/html": [
       "\n",
       "  <style>\n",
       "    pre {\n",
       "        white-space: pre-wrap;\n",
       "    }\n",
       "  </style>\n",
       "  "
      ],
      "text/plain": [
       "<IPython.core.display.HTML object>"
      ]
     },
     "metadata": {},
     "output_type": "display_data"
    }
   ],
   "source": [
    "output_dir = \"../zero_shot_prompting\"\n",
    "os.makedirs(output_dir, exist_ok=True)"
   ]
  },
  {
   "cell_type": "code",
   "execution_count": null,
   "metadata": {
    "colab": {
     "base_uri": "https://localhost:8080/",
     "height": 35
    },
    "id": "RPMpimt0I2Fv",
    "outputId": "242de121-f92d-4be6-e01c-23f8cec5e332"
   },
   "outputs": [
    {
     "data": {
      "text/html": [
       "\n",
       "  <style>\n",
       "    pre {\n",
       "        white-space: pre-wrap;\n",
       "    }\n",
       "  </style>\n",
       "  "
      ],
      "text/plain": [
       "<IPython.core.display.HTML object>"
      ]
     },
     "metadata": {},
     "output_type": "display_data"
    },
    {
     "name": "stderr",
     "output_type": "stream",
     "text": [
      "100%|██████████| 1577/1577 [18:12<00:00,  1.44it/s]\n"
     ]
    }
   ],
   "source": [
    "val_prompts = val_df.apply(lambda e: en_prompt_template.format_map(e), axis=1).tolist()\n",
    "val_answers = [query_openai(p) for p in tqdm(val_prompts)]\n",
    "\n",
    "val_preds_df = val_df[[\"id\"]]\n",
    "val_preds_df[\"label\"] = [label2id.get(labels_fr2en.get(a, \"unknown\"), -1) for a in val_answers]"
   ]
  },
  {
   "cell_type": "code",
   "execution_count": null,
   "metadata": {
    "colab": {
     "base_uri": "https://localhost:8080/",
     "height": 35
    },
    "id": "JpXAIeMRYXfM",
    "outputId": "a8ef9a47-effc-40fe-8301-bb2f79f9c68d"
   },
   "outputs": [
    {
     "data": {
      "text/html": [
       "\n",
       "  <style>\n",
       "    pre {\n",
       "        white-space: pre-wrap;\n",
       "    }\n",
       "  </style>\n",
       "  "
      ],
      "text/plain": [
       "<IPython.core.display.HTML object>"
      ]
     },
     "metadata": {},
     "output_type": "display_data"
    },
    {
     "name": "stdout",
     "output_type": "stream",
     "text": [
      "Saved val preds to zero-shot-prompting/val_preds.csv\n"
     ]
    }
   ],
   "source": [
    "val_preds_path = os.path.join(output_dir, \"val_preds.csv\")\n",
    "val_preds_df.to_csv(val_preds_path, index=False)\n",
    "print(f\"Saved val preds to {val_preds_path}\")"
   ]
  },
  {
   "cell_type": "code",
   "execution_count": null,
   "metadata": {
    "colab": {
     "base_uri": "https://localhost:8080/",
     "height": 35
    },
    "id": "rP9EMRfkZdjk",
    "outputId": "60aace71-ea68-4280-9407-ce5f62334cb2"
   },
   "outputs": [
    {
     "data": {
      "text/html": [
       "\n",
       "  <style>\n",
       "    pre {\n",
       "        white-space: pre-wrap;\n",
       "    }\n",
       "  </style>\n",
       "  "
      ],
      "text/plain": [
       "<IPython.core.display.HTML object>"
      ]
     },
     "metadata": {},
     "output_type": "display_data"
    },
    {
     "name": "stderr",
     "output_type": "stream",
     "text": [
      "100%|██████████| 3193/3193 [36:43<00:00,  1.45it/s]\n"
     ]
    }
   ],
   "source": [
    "test_prompts = test_df.apply(lambda e: en_prompt_template.format_map(e), axis=1).tolist()\n",
    "test_answers = [query_openai(p) for p in tqdm(test_prompts)]\n",
    "\n",
    "test_preds_df = test_df[[\"id\"]]\n",
    "test_preds_df[\"label\"] = [label2id.get(labels_fr2en.get(a, \"unknown\"), -1) for a in test_answers]"
   ]
  },
  {
   "cell_type": "code",
   "execution_count": null,
   "metadata": {
    "colab": {
     "base_uri": "https://localhost:8080/",
     "height": 35
    },
    "id": "BiTAJizlYXoe",
    "outputId": "aeaec658-23d3-428b-9f9b-2bafcbd81b35"
   },
   "outputs": [
    {
     "data": {
      "text/html": [
       "\n",
       "  <style>\n",
       "    pre {\n",
       "        white-space: pre-wrap;\n",
       "    }\n",
       "  </style>\n",
       "  "
      ],
      "text/plain": [
       "<IPython.core.display.HTML object>"
      ]
     },
     "metadata": {},
     "output_type": "display_data"
    },
    {
     "name": "stdout",
     "output_type": "stream",
     "text": [
      "Saved test preds to zero-shot-prompting/test_preds.csv\n"
     ]
    }
   ],
   "source": [
    "test_preds_path = os.path.join(output_dir, \"test_preds.csv\")\n",
    "test_preds_df.to_csv(test_preds_path, index=False)\n",
    "print(f\"Saved test preds to {test_preds_path}\")"
   ]
  },
  {
   "cell_type": "code",
   "execution_count": null,
   "metadata": {
    "id": "OqoilTYOkTMN"
   },
   "outputs": [],
   "source": []
  }
 ],
 "metadata": {
  "colab": {
   "provenance": []
  },
  "kernelspec": {
   "display_name": "Python 3 (ipykernel)",
   "language": "python",
   "name": "python3"
  },
  "language_info": {
   "codemirror_mode": {
    "name": "ipython",
    "version": 3
   },
   "file_extension": ".py",
   "mimetype": "text/x-python",
   "name": "python",
   "nbconvert_exporter": "python",
   "pygments_lexer": "ipython3",
   "version": "3.11.4"
  }
 },
 "nbformat": 4,
 "nbformat_minor": 1
}
