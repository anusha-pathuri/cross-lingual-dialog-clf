{
 "cells": [
  {
   "cell_type": "code",
   "execution_count": 1,
   "id": "2f5c64cd",
   "metadata": {},
   "outputs": [],
   "source": [
    "import os\n",
    "import gc\n",
    "import warnings\n",
    "warnings.filterwarnings(\"ignore\")\n",
    "\n",
    "import pandas as pd\n",
    "from itertools import chain\n",
    "from functools import partial\n",
    "from collections import defaultdict\n",
    "\n",
    "\n",
    "from sklearn.dummy import DummyClassifier\n",
    "from sklearn.metrics import f1_score\n",
    "\n",
    "import matplotlib.pyplot as plt\n",
    "import seaborn as sns; sns.set()\n",
    "\n",
    "gc.collect()"
   ]
  },
  {
   "cell_type": "markdown",
   "id": "2b137069",
   "metadata": {},
   "source": [
    "# Dataset"
   ]
  },
  {
   "cell_type": "code",
   "execution_count": 3,
   "id": "1db38500",
   "metadata": {},
   "outputs": [],
   "source": [
    "from scripts.utils import load_datasets\n",
    "\n",
    "train_df, val_df, test_df = load_datasets()"
   ]
  },
  {
   "cell_type": "code",
   "execution_count": 4,
   "id": "0ca42998",
   "metadata": {},
   "outputs": [
    {
     "data": {
      "text/html": [
       "<div>\n",
       "<style scoped>\n",
       "    .dataframe tbody tr th:only-of-type {\n",
       "        vertical-align: middle;\n",
       "    }\n",
       "\n",
       "    .dataframe tbody tr th {\n",
       "        vertical-align: top;\n",
       "    }\n",
       "\n",
       "    .dataframe thead th {\n",
       "        text-align: right;\n",
       "    }\n",
       "</style>\n",
       "<table border=\"1\" class=\"dataframe\">\n",
       "  <thead>\n",
       "    <tr style=\"text-align: right;\">\n",
       "      <th></th>\n",
       "      <th>id</th>\n",
       "      <th>text_en</th>\n",
       "      <th>text_fr</th>\n",
       "      <th>label</th>\n",
       "      <th>label_text</th>\n",
       "    </tr>\n",
       "  </thead>\n",
       "  <tbody>\n",
       "    <tr>\n",
       "      <th>0</th>\n",
       "      <td>3232343436343136</td>\n",
       "      <td>Has Angelika Kratzer video messaged me?</td>\n",
       "      <td>Angelika Kratzer m'a-t-elle envoyé un message ...</td>\n",
       "      <td>0</td>\n",
       "      <td>messaging</td>\n",
       "    </tr>\n",
       "    <tr>\n",
       "      <th>1</th>\n",
       "      <td>3132353830343836</td>\n",
       "      <td>Maricopa County weather forecast for this week</td>\n",
       "      <td>Prévision météo pour le comté de Maricopa cett...</td>\n",
       "      <td>5</td>\n",
       "      <td>weather</td>\n",
       "    </tr>\n",
       "    <tr>\n",
       "      <th>2</th>\n",
       "      <td>3136363730313437</td>\n",
       "      <td>When will my next alarm start</td>\n",
       "      <td>Quand est-ce que ma prochaine alarme va sonner</td>\n",
       "      <td>6</td>\n",
       "      <td>alarm</td>\n",
       "    </tr>\n",
       "    <tr>\n",
       "      <th>3</th>\n",
       "      <td>3232353833343937</td>\n",
       "      <td>text Matthew and Helen that are you free</td>\n",
       "      <td>envoyez un texto à Matthew et Helen pour leur ...</td>\n",
       "      <td>0</td>\n",
       "      <td>messaging</td>\n",
       "    </tr>\n",
       "    <tr>\n",
       "      <th>4</th>\n",
       "      <td>3231333432363134</td>\n",
       "      <td>I am no longer available</td>\n",
       "      <td>Je ne suis plus disponible</td>\n",
       "      <td>1</td>\n",
       "      <td>calling</td>\n",
       "    </tr>\n",
       "  </tbody>\n",
       "</table>\n",
       "</div>"
      ],
      "text/plain": [
       "                 id                                         text_en  \\\n",
       "0  3232343436343136         Has Angelika Kratzer video messaged me?   \n",
       "1  3132353830343836  Maricopa County weather forecast for this week   \n",
       "2  3136363730313437                   When will my next alarm start   \n",
       "3  3232353833343937        text Matthew and Helen that are you free   \n",
       "4  3231333432363134                        I am no longer available   \n",
       "\n",
       "                                             text_fr  label label_text  \n",
       "0  Angelika Kratzer m'a-t-elle envoyé un message ...      0  messaging  \n",
       "1  Prévision météo pour le comté de Maricopa cett...      5    weather  \n",
       "2     Quand est-ce que ma prochaine alarme va sonner      6      alarm  \n",
       "3  envoyez un texto à Matthew et Helen pour leur ...      0  messaging  \n",
       "4                         Je ne suis plus disponible      1    calling  "
      ]
     },
     "execution_count": 4,
     "metadata": {},
     "output_type": "execute_result"
    }
   ],
   "source": [
    "train_df.head()"
   ]
  },
  {
   "cell_type": "code",
   "execution_count": 5,
   "id": "8c0f7d09",
   "metadata": {},
   "outputs": [
    {
     "data": {
      "text/plain": [
       "(11814, 1577, 3193)"
      ]
     },
     "execution_count": 5,
     "metadata": {},
     "output_type": "execute_result"
    }
   ],
   "source": [
    "len(train_df), len(val_df), len(test_df)"
   ]
  },
  {
   "cell_type": "code",
   "execution_count": null,
   "id": "0defc2b0",
   "metadata": {},
   "outputs": [],
   "source": [
    "train_df.to_csv(\"../data/mtob_domain_en_fr_train.csv\", index=False)\n",
    "val_df.to_csv(\"../data/mtob_domain_en_fr_val.csv\", index=False)\n",
    "test_df.to_csv(\"../data/mtob_domain_en_fr_test.csv\", index=False)"
   ]
  },
  {
   "cell_type": "code",
   "execution_count": 6,
   "id": "222e43b7",
   "metadata": {},
   "outputs": [],
   "source": [
    "df = pd.concat([train_df.assign(split=\"train\"), val_df.assign(split=\"val\"), test_df.assign(split=\"test\")], ignore_index=True)"
   ]
  },
  {
   "cell_type": "code",
   "execution_count": 7,
   "id": "12a683db",
   "metadata": {},
   "outputs": [
    {
     "name": "stdout",
     "output_type": "stream",
     "text": [
      "| label_text   |   train |   val |   test |\n",
      "|:-------------|--------:|------:|-------:|\n",
      "| alarm        |    1113 |   138 |    330 |\n",
      "| calling      |    1968 |   278 |    551 |\n",
      "| event        |     799 |    92 |    159 |\n",
      "| messaging    |     861 |   125 |    253 |\n",
      "| music        |    1082 |   137 |    280 |\n",
      "| news         |     668 |    78 |    159 |\n",
      "| people       |     975 |   145 |    272 |\n",
      "| recipes      |     697 |   124 |    181 |\n",
      "| reminder     |    1656 |   203 |    462 |\n",
      "| timer        |     734 |    89 |    190 |\n",
      "| weather      |    1261 |   168 |    356 |\n"
     ]
    }
   ],
   "source": [
    "print(df.groupby([\"label_text\", \"split\"]).size().unstack(level=1)[[\"train\", \"val\", \"test\"]].to_markdown())"
   ]
  },
  {
   "cell_type": "code",
   "execution_count": 8,
   "id": "1fcfd94c",
   "metadata": {},
   "outputs": [
    {
     "data": {
      "text/plain": [
       "{0: 'messaging',\n",
       " 1: 'calling',\n",
       " 2: 'event',\n",
       " 3: 'timer',\n",
       " 4: 'music',\n",
       " 5: 'weather',\n",
       " 6: 'alarm',\n",
       " 7: 'people',\n",
       " 8: 'reminder',\n",
       " 9: 'recipes',\n",
       " 10: 'news'}"
      ]
     },
     "execution_count": 8,
     "metadata": {},
     "output_type": "execute_result"
    }
   ],
   "source": [
    "id2label = train_df[[\"label\", \"label_text\"]].set_index(\"label\")[\"label_text\"].sort_index().to_dict()\n",
    "label2id = {l: i for i, l in id2label.items()}\n",
    "class_names = list(label2id.keys())\n",
    "id2label"
   ]
  },
  {
   "cell_type": "markdown",
   "id": "5bdb24d2",
   "metadata": {},
   "source": [
    "# Baselines\n",
    "\n",
    "- English & French\n"
   ]
  },
  {
   "cell_type": "code",
   "execution_count": 9,
   "id": "888b498b",
   "metadata": {},
   "outputs": [],
   "source": [
    "def evaluate(true, preds, metric=\"micro_f1\"):\n",
    "    metric_func = {\n",
    "        \"micro_f1\": partial(f1_score, average=\"micro\"),\n",
    "        \"macro_f1\": partial(f1_score, average=\"macro\"),\n",
    "        \"weighted_f1\": partial(f1_score, average=\"weighted\"),\n",
    "    }\n",
    "    score = metric_func[metric](true, preds)\n",
    "    return score"
   ]
  },
  {
   "cell_type": "code",
   "execution_count": 10,
   "id": "386a9f2b",
   "metadata": {},
   "outputs": [],
   "source": [
    "def display_scores(scores_df):\n",
    "    scores_df = scores_df.set_index([\"model\", \"language\", \"split\"]).unstack(level=2)\n",
    "    scores_df.columns = scores_df.columns.swaplevel(0, 1)\n",
    "    scores_df = scores_df.sort_index(axis=1, level=0).rename_axis([\"\", \"\"], axis=1)\n",
    "    return scores_df"
   ]
  },
  {
   "cell_type": "code",
   "execution_count": 11,
   "id": "26d94585",
   "metadata": {},
   "outputs": [
    {
     "data": {
      "text/html": [
       "<div>\n",
       "<style scoped>\n",
       "    .dataframe tbody tr th:only-of-type {\n",
       "        vertical-align: middle;\n",
       "    }\n",
       "\n",
       "    .dataframe tbody tr th {\n",
       "        vertical-align: top;\n",
       "    }\n",
       "\n",
       "    .dataframe thead th {\n",
       "        text-align: right;\n",
       "    }\n",
       "</style>\n",
       "<table border=\"1\" class=\"dataframe\">\n",
       "  <thead>\n",
       "    <tr style=\"text-align: right;\">\n",
       "      <th></th>\n",
       "      <th>model</th>\n",
       "      <th>language</th>\n",
       "      <th>split</th>\n",
       "      <th>micro_f1</th>\n",
       "      <th>macro_f1</th>\n",
       "      <th>weighted_f1</th>\n",
       "    </tr>\n",
       "  </thead>\n",
       "  <tbody>\n",
       "  </tbody>\n",
       "</table>\n",
       "</div>"
      ],
      "text/plain": [
       "Empty DataFrame\n",
       "Columns: [model, language, split, micro_f1, macro_f1, weighted_f1]\n",
       "Index: []"
      ]
     },
     "execution_count": 11,
     "metadata": {},
     "output_type": "execute_result"
    }
   ],
   "source": [
    "scores_df = pd.DataFrame(columns=[\"model\", \"language\", \"split\", \"micro_f1\", \"macro_f1\", \"weighted_f1\"])\n",
    "scores_df"
   ]
  },
  {
   "cell_type": "markdown",
   "id": "68f1e321",
   "metadata": {},
   "source": [
    "## 1. Most frequent class"
   ]
  },
  {
   "cell_type": "code",
   "execution_count": 12,
   "id": "1bc3fb94",
   "metadata": {},
   "outputs": [
    {
     "data": {
      "text/plain": [
       "(1, 'calling')"
      ]
     },
     "execution_count": 12,
     "metadata": {},
     "output_type": "execute_result"
    }
   ],
   "source": [
    "most_freq_cls = train_df.label.value_counts().index[0]\n",
    "most_freq_cls, id2label[most_freq_cls]"
   ]
  },
  {
   "cell_type": "code",
   "execution_count": 13,
   "id": "917f1dd1",
   "metadata": {},
   "outputs": [
    {
     "data": {
      "text/html": [
       "<div>\n",
       "<style scoped>\n",
       "    .dataframe tbody tr th:only-of-type {\n",
       "        vertical-align: middle;\n",
       "    }\n",
       "\n",
       "    .dataframe tbody tr th {\n",
       "        vertical-align: top;\n",
       "    }\n",
       "\n",
       "    .dataframe thead tr th {\n",
       "        text-align: left;\n",
       "    }\n",
       "\n",
       "    .dataframe thead tr:last-of-type th {\n",
       "        text-align: right;\n",
       "    }\n",
       "</style>\n",
       "<table border=\"1\" class=\"dataframe\">\n",
       "  <thead>\n",
       "    <tr>\n",
       "      <th></th>\n",
       "      <th></th>\n",
       "      <th colspan=\"3\" halign=\"left\">train</th>\n",
       "      <th colspan=\"3\" halign=\"left\">val</th>\n",
       "    </tr>\n",
       "    <tr>\n",
       "      <th></th>\n",
       "      <th></th>\n",
       "      <th>macro_f1</th>\n",
       "      <th>micro_f1</th>\n",
       "      <th>weighted_f1</th>\n",
       "      <th>macro_f1</th>\n",
       "      <th>micro_f1</th>\n",
       "      <th>weighted_f1</th>\n",
       "    </tr>\n",
       "    <tr>\n",
       "      <th>model</th>\n",
       "      <th>language</th>\n",
       "      <th></th>\n",
       "      <th></th>\n",
       "      <th></th>\n",
       "      <th></th>\n",
       "      <th></th>\n",
       "      <th></th>\n",
       "    </tr>\n",
       "  </thead>\n",
       "  <tbody>\n",
       "    <tr>\n",
       "      <th rowspan=\"2\" valign=\"top\">base1_mostfreq</th>\n",
       "      <th>en</th>\n",
       "      <td>0.025963</td>\n",
       "      <td>0.166582</td>\n",
       "      <td>0.047574</td>\n",
       "      <td>0.027248</td>\n",
       "      <td>0.176284</td>\n",
       "      <td>0.052838</td>\n",
       "    </tr>\n",
       "    <tr>\n",
       "      <th>fr</th>\n",
       "      <td>0.025963</td>\n",
       "      <td>0.166582</td>\n",
       "      <td>0.047574</td>\n",
       "      <td>0.027248</td>\n",
       "      <td>0.176284</td>\n",
       "      <td>0.052838</td>\n",
       "    </tr>\n",
       "  </tbody>\n",
       "</table>\n",
       "</div>"
      ],
      "text/plain": [
       "                            train                             val            \\\n",
       "                         macro_f1  micro_f1 weighted_f1  macro_f1  micro_f1   \n",
       "model          language                                                       \n",
       "base1_mostfreq en        0.025963  0.166582    0.047574  0.027248  0.176284   \n",
       "               fr        0.025963  0.166582    0.047574  0.027248  0.176284   \n",
       "\n",
       "                                     \n",
       "                        weighted_f1  \n",
       "model          language              \n",
       "base1_mostfreq en          0.052838  \n",
       "               fr          0.052838  "
      ]
     },
     "execution_count": 13,
     "metadata": {},
     "output_type": "execute_result"
    }
   ],
   "source": [
    "model_name = \"base1_mostfreq\"\n",
    "\n",
    "base0_clf = DummyClassifier(strategy=\"most_frequent\", random_state=630).fit(\n",
    "    X=[None] * len(train_df), y=train_df[\"label\"].values)\n",
    "\n",
    "base0_preds = defaultdict(dict)\n",
    "base0_scores = []\n",
    "\n",
    "for split in [\"train\", \"val\"]:\n",
    "    split_df = df.query(\"split == @split\")\n",
    "    base0_preds[split] = base0_clf.predict([None] * len(split_df))\n",
    "    \n",
    "    micro_f1 = evaluate(split_df[\"label\"].values, base0_preds[split], \"micro_f1\")\n",
    "    macro_f1 = evaluate(split_df[\"label\"].values, base0_preds[split], \"macro_f1\")\n",
    "    weighted_f1 = evaluate(split_df[\"label\"].values, base0_preds[split], \"weighted_f1\")\n",
    "        \n",
    "    base0_scores.append([model_name, \"en\", split, micro_f1, macro_f1, weighted_f1])\n",
    "    base0_scores.append([model_name, \"fr\", split, micro_f1, macro_f1, weighted_f1])\n",
    "\n",
    "scores_df = pd.concat([scores_df, pd.DataFrame(base0_scores, columns=scores_df.columns)], ignore_index=True)\n",
    "display_scores(scores_df)"
   ]
  },
  {
   "cell_type": "markdown",
   "id": "3e025740",
   "metadata": {},
   "source": [
    "## 2. Stratified\n",
    "\n",
    "Randomly sample from a prior defined by the train set distribution."
   ]
  },
  {
   "cell_type": "code",
   "execution_count": 14,
   "id": "0c95a8e0",
   "metadata": {},
   "outputs": [],
   "source": [
    "train_counts = train_df.label_text.value_counts()"
   ]
  },
  {
   "cell_type": "code",
   "execution_count": 15,
   "id": "f0ebf32f",
   "metadata": {},
   "outputs": [
    {
     "data": {
      "image/png": "[encoded data removed]",
      "text/plain": [
       "<Figure size 1000x400 with 1 Axes>"
      ]
     },
     "metadata": {},
     "output_type": "display_data"
    }
   ],
   "source": [
    "plt.figure(figsize=(10, 4))\n",
    "sns.countplot(data=train_df, x=\"label_text\", order=sorted(train_counts.index), stat=\"probability\", width=0.4)\n",
    "plt.xlabel(\"\");\n",
    "plt.title(\"Prior for stratified predictions\");"
   ]
  },
  {
   "cell_type": "code",
   "execution_count": 16,
   "id": "02345458",
   "metadata": {},
   "outputs": [
    {
     "data": {
      "text/html": [
       "<div>\n",
       "<style scoped>\n",
       "    .dataframe tbody tr th:only-of-type {\n",
       "        vertical-align: middle;\n",
       "    }\n",
       "\n",
       "    .dataframe tbody tr th {\n",
       "        vertical-align: top;\n",
       "    }\n",
       "\n",
       "    .dataframe thead tr th {\n",
       "        text-align: left;\n",
       "    }\n",
       "\n",
       "    .dataframe thead tr:last-of-type th {\n",
       "        text-align: right;\n",
       "    }\n",
       "</style>\n",
       "<table border=\"1\" class=\"dataframe\">\n",
       "  <thead>\n",
       "    <tr>\n",
       "      <th></th>\n",
       "      <th></th>\n",
       "      <th colspan=\"3\" halign=\"left\">train</th>\n",
       "      <th colspan=\"3\" halign=\"left\">val</th>\n",
       "    </tr>\n",
       "    <tr>\n",
       "      <th></th>\n",
       "      <th></th>\n",
       "      <th>macro_f1</th>\n",
       "      <th>micro_f1</th>\n",
       "      <th>weighted_f1</th>\n",
       "      <th>macro_f1</th>\n",
       "      <th>micro_f1</th>\n",
       "      <th>weighted_f1</th>\n",
       "    </tr>\n",
       "    <tr>\n",
       "      <th>model</th>\n",
       "      <th>language</th>\n",
       "      <th></th>\n",
       "      <th></th>\n",
       "      <th></th>\n",
       "      <th></th>\n",
       "      <th></th>\n",
       "      <th></th>\n",
       "    </tr>\n",
       "  </thead>\n",
       "  <tbody>\n",
       "    <tr>\n",
       "      <th rowspan=\"2\" valign=\"top\">base1_mostfreq</th>\n",
       "      <th>en</th>\n",
       "      <td>0.025963</td>\n",
       "      <td>0.166582</td>\n",
       "      <td>0.047574</td>\n",
       "      <td>0.027248</td>\n",
       "      <td>0.176284</td>\n",
       "      <td>0.052838</td>\n",
       "    </tr>\n",
       "    <tr>\n",
       "      <th>fr</th>\n",
       "      <td>0.025963</td>\n",
       "      <td>0.166582</td>\n",
       "      <td>0.047574</td>\n",
       "      <td>0.027248</td>\n",
       "      <td>0.176284</td>\n",
       "      <td>0.052838</td>\n",
       "    </tr>\n",
       "    <tr>\n",
       "      <th rowspan=\"2\" valign=\"top\">base2_stratified</th>\n",
       "      <th>en</th>\n",
       "      <td>0.090648</td>\n",
       "      <td>0.103013</td>\n",
       "      <td>0.103020</td>\n",
       "      <td>0.081497</td>\n",
       "      <td>0.094483</td>\n",
       "      <td>0.094554</td>\n",
       "    </tr>\n",
       "    <tr>\n",
       "      <th>fr</th>\n",
       "      <td>0.090648</td>\n",
       "      <td>0.103013</td>\n",
       "      <td>0.103020</td>\n",
       "      <td>0.081497</td>\n",
       "      <td>0.094483</td>\n",
       "      <td>0.094554</td>\n",
       "    </tr>\n",
       "  </tbody>\n",
       "</table>\n",
       "</div>"
      ],
      "text/plain": [
       "                              train                             val            \\\n",
       "                           macro_f1  micro_f1 weighted_f1  macro_f1  micro_f1   \n",
       "model            language                                                       \n",
       "base1_mostfreq   en        0.025963  0.166582    0.047574  0.027248  0.176284   \n",
       "                 fr        0.025963  0.166582    0.047574  0.027248  0.176284   \n",
       "base2_stratified en        0.090648  0.103013    0.103020  0.081497  0.094483   \n",
       "                 fr        0.090648  0.103013    0.103020  0.081497  0.094483   \n",
       "\n",
       "                                       \n",
       "                          weighted_f1  \n",
       "model            language              \n",
       "base1_mostfreq   en          0.052838  \n",
       "                 fr          0.052838  \n",
       "base2_stratified en          0.094554  \n",
       "                 fr          0.094554  "
      ]
     },
     "execution_count": 16,
     "metadata": {},
     "output_type": "execute_result"
    }
   ],
   "source": [
    "model_name = \"base2_stratified\"\n",
    "\n",
    "base1_clf = DummyClassifier(strategy=\"stratified\", random_state=630).fit(\n",
    "    X=[None] * len(train_df), y=train_df[\"label\"].values)\n",
    "\n",
    "base1_preds = defaultdict(dict)\n",
    "base1_scores = []\n",
    "\n",
    "for split in [\"train\", \"val\"]:\n",
    "    split_df = df.query(\"split == @split\")\n",
    "    base1_preds[split] = base1_clf.predict([None] * len(split_df))\n",
    "    \n",
    "    micro_f1 = evaluate(split_df[\"label\"].values, base1_preds[split], \"micro_f1\")\n",
    "    macro_f1 = evaluate(split_df[\"label\"].values, base1_preds[split], \"macro_f1\")\n",
    "    weighted_f1 = evaluate(split_df[\"label\"].values, base1_preds[split], \"weighted_f1\")\n",
    "        \n",
    "    base1_scores.append([model_name, \"en\", split, micro_f1, macro_f1, weighted_f1])\n",
    "    base1_scores.append([model_name, \"fr\", split, micro_f1, macro_f1, weighted_f1])\n",
    "\n",
    "scores_df = pd.concat([scores_df, pd.DataFrame(base1_scores, columns=scores_df.columns)], ignore_index=True)\n",
    "display_scores(scores_df)"
   ]
  },
  {
   "cell_type": "code",
   "execution_count": 17,
   "id": "2f58dec4",
   "metadata": {},
   "outputs": [
    {
     "data": {
      "image/png": "[encoded data removed]",
      "text/plain": [
       "<Figure size 1000x400 with 1 Axes>"
      ]
     },
     "metadata": {},
     "output_type": "display_data"
    }
   ],
   "source": [
    "base1_preds_counts = {split: pd.value_counts([id2label[p] for p in preds]) for split, preds in base1_preds.items()}\n",
    "base1_preds_counts = pd.DataFrame(base1_preds_counts)\\\n",
    "    .melt(var_name=\"split\", value_name=\"count\", ignore_index=False)\\\n",
    "    .rename_axis(\"label_text\").reset_index()\n",
    "\n",
    "plt.figure(figsize=(10, 4))\n",
    "sns.barplot(data=base1_preds_counts, x=\"label_text\", y=\"count\", hue=\"split\", order=sorted(train_counts.index))\n",
    "plt.xlabel(\"\")\n",
    "plt.title(\"Predictions for baseline 2 (stratified sampling from training prior)\");"
   ]
  },
  {
   "cell_type": "markdown",
   "id": "9a1e3b1d",
   "metadata": {},
   "source": [
    "## 3. Naive rule based classifier \n",
    "\n",
    "- Define a list of keywords per class based on most frequently occuring words.\n",
    "- Check for the presence of a keyword in the query text.\n",
    "- If none of the keywords corresponding to any class are present, predict \"unknown\". In this case, we would expect the voice assistant to say something like \"Sorry, I could not catch that\" or \"Sorry, instructions unclear\". Falling back to the most frequent class in the training set is not a very sound strategy in this case."
   ]
  },
  {
   "cell_type": "markdown",
   "id": "1d97d94a",
   "metadata": {},
   "source": [
    "Most frequent words per class:"
   ]
  },
  {
   "cell_type": "code",
   "execution_count": 18,
   "id": "8234237c",
   "metadata": {},
   "outputs": [],
   "source": [
    "def get_freq_words_per_class(df, lang, n=3):\n",
    "    text_col = f\"text_{lang}\"\n",
    "    words = df[[\"label_text\", text_col]]\n",
    "    words[text_col] = words[text_col].map(lambda s: s.lower().split())\n",
    "    words = words.groupby(\"label_text\").apply(lambda grp: list(chain.from_iterable(grp[text_col].values)))\n",
    "    words = words.map(lambda w: pd.value_counts(w).head(n).index.values)\n",
    "    return words"
   ]
  },
  {
   "cell_type": "code",
   "execution_count": 19,
   "id": "ed1fcf77",
   "metadata": {},
   "outputs": [
    {
     "data": {
      "text/plain": [
       "label_text\n",
       "alarm               [alarm, for, set, an, at]\n",
       "calling           [call, to, my, the, please]\n",
       "event              [in, to, this, events, do]\n",
       "messaging       [message, to, video, a, send]\n",
       "music               [play, the, to, song, on]\n",
       "news         [the, news, me, what, headlines]\n",
       "people           [who, is, in, friends, does]\n",
       "recipes             [how, a, i, what, recipe]\n",
       "reminder           [to, me, remind, the, for]\n",
       "timer         [timer, the, for, minutes, set]\n",
       "weather          [the, is, weather, in, what]\n",
       "dtype: object"
      ]
     },
     "execution_count": 19,
     "metadata": {},
     "output_type": "execute_result"
    }
   ],
   "source": [
    "freq_words_en = get_freq_words_per_class(train_df, \"en\", 5)\n",
    "freq_words_en"
   ]
  },
  {
   "cell_type": "code",
   "execution_count": 20,
   "id": "ca60fe6c",
   "metadata": {},
   "outputs": [
    {
     "data": {
      "text/plain": [
       "label_text\n",
       "alarm              [alarme, pour, une, à, les]\n",
       "calling            [appelle, de, à, appel, en]\n",
       "event                   [à, ce, de, faire, se]\n",
       "messaging        [à, message, un, vidéo, pour]\n",
       "music             [de, la, joue, chanson, sur]\n",
       "news                 [les, de, ?, sur, titres]\n",
       "people                    [?, de, qui, à, que]\n",
       "recipes              [de, la, recette, une, ?]\n",
       "reminder             [de, pour, le, à, rappel]\n",
       "timer        [minuterie, la, de, minutes, une]\n",
       "weather                  [?, à, la, de, temps]\n",
       "dtype: object"
      ]
     },
     "execution_count": 20,
     "metadata": {},
     "output_type": "execute_result"
    }
   ],
   "source": [
    "freq_words_fr = get_freq_words_per_class(train_df, \"fr\", 5)\n",
    "freq_words_fr"
   ]
  },
  {
   "cell_type": "code",
   "execution_count": 21,
   "id": "6229b5d4",
   "metadata": {},
   "outputs": [
    {
     "data": {
      "text/plain": [
       "Index(['news', 'recipes', 'timer', 'event', 'messaging', 'people', 'music',\n",
       "       'alarm', 'weather', 'reminder', 'calling'],\n",
       "      dtype='object', name='label_text')"
      ]
     },
     "execution_count": 21,
     "metadata": {},
     "output_type": "execute_result"
    }
   ],
   "source": [
    "# Select keywords from EN train set\n",
    "# Assume FR training set is not available and use human translated EN labels\n",
    "\n",
    "keywords = {\n",
    "    \"en\": {\n",
    "        \"alarm\": \"alarm\",\n",
    "        \"calling\": \"call\",\n",
    "        \"event\": \"event\", \n",
    "        \"messaging\": \"message\",\n",
    "        \"music\": \"play\",\n",
    "        \"news\": \"news\",\n",
    "        \"people\": \"who\",\n",
    "        \"recipes\": \"recipe\",\n",
    "        \"reminder\": \"remind\",\n",
    "        \"timer\": \"timer\", \n",
    "        \"weather\": \"weather\",\n",
    "    },\n",
    "    \"fr\": { # translate keywords from english\n",
    "        \"alarm\": \"alarme\",\n",
    "        \"calling\": \"appel\",\n",
    "        \"event\": \"événement\",\n",
    "        \"messaging\": \"message\",\n",
    "        \"music\": \"joue\",\n",
    "        \"news\": \"nouvelles\",\n",
    "        \"people\": \"qui\",\n",
    "        \"recipes\": \"recette\",\n",
    "        \"reminder\": \"rappel\",\n",
    "        \"timer\": \"minuterie\", \n",
    "        \"weather\": \"temps\",\n",
    "    }\n",
    "}\n",
    "\n",
    "# When keywords corresponding to more than one class are present, give priority to the rarer class\n",
    "# Sort classes in increasing order of frequency in the training set \n",
    "# Iterate through the keywords dictionary in this order and predict the first matched class\n",
    "labels_sorted_by_freq = train_df.label_text.value_counts().sort_values(ascending=True).index\n",
    "labels_sorted_by_freq"
   ]
  },
  {
   "cell_type": "code",
   "execution_count": 22,
   "id": "286ba934",
   "metadata": {},
   "outputs": [
    {
     "name": "stdout",
     "output_type": "stream",
     "text": [
      "| Label     | Keyword_EN   | Keyword_FR   |\n",
      "|:----------|:-------------|:-------------|\n",
      "| alarm     | alarm        | alarme       |\n",
      "| calling   | call         | appel        |\n",
      "| event     | event        | événement    |\n",
      "| messaging | message      | message      |\n",
      "| music     | play         | joue         |\n",
      "| news      | news         | nouvelles    |\n",
      "| people    | who          | qui          |\n",
      "| recipes   | recipe       | recette      |\n",
      "| reminder  | remind       | rappel       |\n",
      "| timer     | timer        | minuterie    |\n",
      "| weather   | weather      | temps        |\n"
     ]
    }
   ],
   "source": [
    "keywords_df = pd.DataFrame(keywords)\n",
    "keywords_df.columns = [\"Keyword_EN\", \"Keyword_FR\"]\n",
    "keywords_df = keywords_df.rename_axis(\"Label\")\n",
    "print(keywords_df.to_markdown())"
   ]
  },
  {
   "cell_type": "code",
   "execution_count": 23,
   "id": "328b34ff",
   "metadata": {},
   "outputs": [],
   "source": [
    "def predict(\n",
    "    texts, keywords_by_label, \n",
    "    labels_ordered=labels_sorted_by_freq,\n",
    "    label2id=label2id, \n",
    "    unknown_class_id=-1,\n",
    "):\n",
    "    pred_labels = []\n",
    "    for text in texts:\n",
    "        text = text.lower()\n",
    "        label_found = False\n",
    "        for label in labels_ordered:\n",
    "            if keywords_by_label[label] in text:\n",
    "                pred_labels.append(label)\n",
    "                label_found = True\n",
    "                break\n",
    "                \n",
    "        if not label_found:\n",
    "            pred_labels.append(None)\n",
    "        \n",
    "    return [label2id.get(l, unknown_class_id) for l in pred_labels]"
   ]
  },
  {
   "cell_type": "code",
   "execution_count": 24,
   "id": "5e4df60f",
   "metadata": {},
   "outputs": [],
   "source": [
    "model_name = \"base3_keywords\"\n",
    "\n",
    "base3_preds = defaultdict(lambda: defaultdict(dict))\n",
    "scores = []\n",
    "\n",
    "for lang in [\"en\", \"fr\"]:\n",
    "    text_col = f\"text_{lang}\"\n",
    "    \n",
    "    for split in [\"train\", \"val\"]:\n",
    "        split_df = df.query(\"split == @split\")\n",
    "        base3_preds[lang][split] = predict(split_df[text_col].values, keywords[lang])\n",
    "        \n",
    "        micro_f1 = evaluate(split_df[\"label\"].values, base3_preds[lang][split], \"micro_f1\")\n",
    "        macro_f1 = evaluate(split_df[\"label\"].values, base3_preds[lang][split], \"macro_f1\")\n",
    "        weighted_f1 = evaluate(split_df[\"label\"].values, base3_preds[lang][split], \"weighted_f1\")\n",
    "        \n",
    "        scores.append([model_name, lang, split, micro_f1, macro_f1, weighted_f1])\n",
    "            \n",
    "scores_df = pd.concat([scores_df, pd.DataFrame(scores, columns=scores_df.columns)], ignore_index=True)"
   ]
  },
  {
   "cell_type": "code",
   "execution_count": 25,
   "id": "faf4b9e3",
   "metadata": {},
   "outputs": [],
   "source": [
    "disp_scores_df = display_scores(scores_df)"
   ]
  },
  {
   "cell_type": "code",
   "execution_count": 26,
   "id": "424fcdae",
   "metadata": {},
   "outputs": [
    {
     "name": "stdout",
     "output_type": "stream",
     "text": [
      "\\begin{tabular}{llrrrrrr}\n",
      "\\toprule\n",
      " &  & \\multicolumn{3}{r}{train} & \\multicolumn{3}{r}{val} \\\\\n",
      " &  & macro_f1 & micro_f1 & weighted_f1 & macro_f1 & micro_f1 & weighted_f1 \\\\\n",
      "model & language &  &  &  &  &  &  \\\\\n",
      "\\midrule\n",
      "\\multirow[t]{2}{*}{base1_mostfreq} & en & 0.03 & 0.17 & 0.05 & 0.03 & 0.18 & 0.05 \\\\\n",
      " & fr & 0.03 & 0.17 & 0.05 & 0.03 & 0.18 & 0.05 \\\\\n",
      "\\cline{1-8}\n",
      "\\multirow[t]{2}{*}{base2_stratified} & en & 0.09 & 0.10 & 0.10 & 0.08 & 0.09 & 0.09 \\\\\n",
      " & fr & 0.09 & 0.10 & 0.10 & 0.08 & 0.09 & 0.09 \\\\\n",
      "\\cline{1-8}\n",
      "\\multirow[t]{2}{*}{base3_keywords} & en & 0.65 & 0.63 & 0.74 & 0.64 & 0.62 & 0.72 \\\\\n",
      " & fr & 0.56 & 0.54 & 0.65 & 0.56 & 0.55 & 0.65 \\\\\n",
      "\\cline{1-8}\n",
      "\\bottomrule\n",
      "\\end{tabular}\n",
      "\n"
     ]
    }
   ],
   "source": [
    "print(disp_scores_df.to_latex(float_format=\"%.2f\"))"
   ]
  },
  {
   "cell_type": "markdown",
   "id": "676d054f",
   "metadata": {},
   "source": [
    "- Much lower for french"
   ]
  },
  {
   "cell_type": "markdown",
   "id": "c35d94d3",
   "metadata": {},
   "source": [
    "Correctly predicted:"
   ]
  },
  {
   "cell_type": "code",
   "execution_count": 27,
   "id": "349a8426",
   "metadata": {},
   "outputs": [
    {
     "data": {
      "image/png": "[encoded data removed]",
      "text/plain": [
       "<Figure size 1000x400 with 1 Axes>"
      ]
     },
     "metadata": {},
     "output_type": "display_data"
    }
   ],
   "source": [
    "corr_fracs_df = []\n",
    "\n",
    "for lang in [\"en\", \"fr\"]:\n",
    "    text_col = f\"text_{lang}\"\n",
    "    \n",
    "    lang_df = []\n",
    "    for split in [\"train\", \"val\"]:\n",
    "        split_df = df.query(\"split == @split\")\n",
    "        split_df[\"pred\"] = base3_preds[lang][split]\n",
    "        lang_df.append(split_df)\n",
    "\n",
    "    lang_df = pd.concat(lang_df, ignore_index=True)\n",
    "    corr_frac = lang_df.groupby(\"label_text\").apply(lambda grp: (grp.pred == grp.label).mean())\\\n",
    "        .rename(\"corr_frac\").reset_index()\n",
    "    \n",
    "    corr_fracs_df.append(corr_frac.assign(language=lang.upper()))\n",
    "    \n",
    "corr_fracs_df = pd.concat(corr_fracs_df, ignore_index=True)\n",
    "\n",
    "plt.figure(figsize=(10, 4))\n",
    "sns.barplot(data=corr_fracs_df, x=\"label_text\", y=\"corr_frac\", hue=\"language\")\n",
    "plt.title(f\"Fraction of correctly classified texts\")\n",
    "plt.xlabel(\"\")\n",
    "plt.ylabel(\"accuracy\");"
   ]
  },
  {
   "cell_type": "markdown",
   "id": "d1810a9b",
   "metadata": {},
   "source": [
    "No. of misclassifications:"
   ]
  },
  {
   "cell_type": "code",
   "execution_count": 28,
   "id": "801e2cef",
   "metadata": {},
   "outputs": [
    {
     "data": {
      "image/png": "[encoded data removed]",
      "text/plain": [
       "<Figure size 1000x400 with 1 Axes>"
      ]
     },
     "metadata": {},
     "output_type": "display_data"
    }
   ],
   "source": [
    "mis_fracs_df = []\n",
    "\n",
    "for lang in [\"en\", \"fr\"]:\n",
    "    text_col = f\"text_{lang}\"\n",
    "    \n",
    "    lang_df = []\n",
    "    for split in [\"train\", \"val\"]:\n",
    "        split_df = df.query(\"split == @split\")\n",
    "        split_df[\"pred\"] = base3_preds[lang][split]\n",
    "        lang_df.append(split_df)\n",
    "\n",
    "    lang_df = pd.concat(lang_df, ignore_index=True)\n",
    "    mis_frac = lang_df.groupby(\"label_text\").apply(lambda grp: ((grp.pred >= 0) & (grp.pred != grp.label)).mean())\\\n",
    "        .rename(\"mis_frac\").reset_index()\n",
    "    \n",
    "    mis_fracs_df.append(mis_frac.assign(language=lang.upper()))\n",
    "    \n",
    "mis_fracs_df = pd.concat(mis_fracs_df, ignore_index=True)\n",
    "\n",
    "plt.figure(figsize=(10, 4))\n",
    "sns.barplot(data=mis_fracs_df, x=\"label_text\", y=\"mis_frac\", hue=\"language\")\n",
    "plt.title(f\"Misclassifications: Fraction of texts predicted as another class\")\n",
    "plt.xlabel(\"\")\n",
    "plt.ylabel(\"misclassified fraction\");"
   ]
  },
  {
   "cell_type": "markdown",
   "id": "2cefd886",
   "metadata": {},
   "source": [
    "- Misclassifications make up less than 1% of the errors.\n",
    "- The vast majority of errors seem to be texts classified as \"unknown\"."
   ]
  },
  {
   "cell_type": "markdown",
   "id": "8ddde162",
   "metadata": {},
   "source": [
    "No. of \"unknown\" predictions:"
   ]
  },
  {
   "cell_type": "code",
   "execution_count": 29,
   "id": "befc124b",
   "metadata": {},
   "outputs": [
    {
     "data": {
      "image/png": "[encoded data removed]",
      "text/plain": [
       "<Figure size 1000x400 with 1 Axes>"
      ]
     },
     "metadata": {},
     "output_type": "display_data"
    }
   ],
   "source": [
    "unk_fracs_df = []\n",
    "\n",
    "for lang in [\"en\", \"fr\"]:\n",
    "    text_col = f\"text_{lang}\"\n",
    "    \n",
    "    lang_df = []\n",
    "    for split in [\"train\", \"val\"]:\n",
    "        split_df = df.query(\"split == @split\")\n",
    "        split_df[\"pred\"] = base3_preds[lang][split]\n",
    "        lang_df.append(split_df)\n",
    "\n",
    "    lang_df = pd.concat(lang_df, ignore_index=True)    \n",
    "    unk_frac = lang_df.groupby(\"label_text\").apply(lambda grp: (grp.pred < 0).mean())\\\n",
    "        .rename(\"unk_frac\").reset_index()\n",
    "    \n",
    "    unk_fracs_df.append(unk_frac.assign(language=lang.upper()))\n",
    "    \n",
    "unk_fracs_df = pd.concat(unk_fracs_df, ignore_index=True)\n",
    "\n",
    "plt.figure(figsize=(10, 4))\n",
    "sns.barplot(data=unk_fracs_df, x=\"label_text\", y=\"unk_frac\", hue=\"language\")\n",
    "# plt.title(f\"{lang.upper()}: fraction of texts predicted as 'unknown'\")\n",
    "plt.title(f\"Misclassifications: Fraction of texts predicted as 'unknown'\")\n",
    "plt.xlabel(\"\")\n",
    "plt.ylabel(\"'unknown' fraction\");"
   ]
  },
  {
   "cell_type": "markdown",
   "id": "a8861699",
   "metadata": {},
   "source": [
    "This gives us some rough idea of the complexity of different classes for the text classification task in each language. Higher the fraction of texts predicted as \"unknown\", more complex is that class. In general, \"alarm\", \"reminder\", and \"timer\" seem to be relatively straight forward.\n",
    "\n",
    "For most classes, the naive method does much better for English than French, the difference being particularly large for \"alarm\", \"timer\", \"news\" and \"music\".\n"
   ]
  },
  {
   "cell_type": "markdown",
   "id": "9a71e476",
   "metadata": {},
   "source": [
    "# Predict on test set"
   ]
  },
  {
   "cell_type": "code",
   "execution_count": 37,
   "id": "eca56808",
   "metadata": {},
   "outputs": [
    {
     "data": {
      "text/plain": [
       "['.ipynb_checkpoints', 'base1_mostfreq', 'base2_stratified', 'base3_keywords']"
      ]
     },
     "execution_count": 37,
     "metadata": {},
     "output_type": "execute_result"
    }
   ],
   "source": [
    "os.listdir(\"../outputs/baselines/\")"
   ]
  },
  {
   "cell_type": "code",
   "execution_count": 38,
   "id": "19a9436c",
   "metadata": {},
   "outputs": [],
   "source": [
    "base1_preds_df = test_df[[\"id\"]]\n",
    "base1_preds = base0_clf.predict_proba([None] * len(test_df))\n",
    "base1_preds_df[\"label\"] = base1_preds.argmax(1)\n",
    "base1_preds_df[\"score\"] = base1_preds.max(1)\n",
    "\n",
    "base1_preds_df.to_csv(\"../outputs/baselines/base1_mostfreq/test_preds.csv\", index=False)"
   ]
  },
  {
   "cell_type": "code",
   "execution_count": 39,
   "id": "2f81410a",
   "metadata": {},
   "outputs": [],
   "source": [
    "base2_preds_df = test_df[[\"id\"]]\n",
    "base2_preds = base1_clf.predict_proba([None] * len(test_df))\n",
    "base2_preds_df[\"label\"] = base2_preds.argmax(1)\n",
    "base2_preds_df[\"score\"] = base2_preds.max(1)\n",
    "\n",
    "base2_preds_df.to_csv(\"../outputs/baselines/base2_stratified/test_preds.csv\", index=False)"
   ]
  },
  {
   "cell_type": "code",
   "execution_count": 41,
   "id": "5177675d",
   "metadata": {},
   "outputs": [],
   "source": [
    "base3_preds_df = test_df[[\"id\"]]\n",
    "base3_preds_df[\"label\"] = predict(test_df[\"text_fr\"].values, keywords[\"fr\"])\n",
    "base3_preds_df[\"score\"] = 1.\n",
    "\n",
    "base3_preds_df.to_csv(\"../outputs/baselines/base3_keywords/test_preds.csv\", index=False)"
   ]
  },
  {
   "cell_type": "code",
   "execution_count": null,
   "id": "21249fa0",
   "metadata": {},
   "outputs": [],
   "source": []
  }
 ],
 "metadata": {
  "kernelspec": {
   "display_name": "si671py311",
   "language": "python",
   "name": "si671py311"
  },
  "language_info": {
   "codemirror_mode": {
    "name": "ipython",
    "version": 3
   },
   "file_extension": ".py",
   "mimetype": "text/x-python",
   "name": "python",
   "nbconvert_exporter": "python",
   "pygments_lexer": "ipython3",
   "version": "3.11.5"
  }
 },
 "nbformat": 4,
 "nbformat_minor": 5
}
